{
 "cells": [
  {
   "cell_type": "code",
   "execution_count": 1,
   "id": "f11aa850",
   "metadata": {},
   "outputs": [],
   "source": [
    "import pandas as pd "
   ]
  },
  {
   "cell_type": "code",
   "execution_count": 2,
   "id": "af7e2037",
   "metadata": {},
   "outputs": [],
   "source": [
    "df = pd.read_csv(\"zomato.csv\" , encoding=\"latin-1\")"
   ]
  },
  {
   "cell_type": "code",
   "execution_count": 3,
   "id": "2f3f98e2",
   "metadata": {},
   "outputs": [
    {
     "name": "stdout",
     "output_type": "stream",
     "text": [
      "Number of rows are  9551\n",
      "Number of ciolumns are  21\n"
     ]
    }
   ],
   "source": [
    "# finding the number of rows and columns \n",
    "print(\"Number of rows are \" ,df.shape[0])\n",
    "print(\"Number of ciolumns are \" , df.shape[1])"
   ]
  },
  {
   "cell_type": "code",
   "execution_count": 4,
   "id": "b5969cd1",
   "metadata": {},
   "outputs": [],
   "source": [
    "# lets find out is there any null value are present in our data set or not "
   ]
  },
  {
   "cell_type": "code",
   "execution_count": 5,
   "id": "f8da7359",
   "metadata": {},
   "outputs": [],
   "source": [
    "import seaborn as sns "
   ]
  },
  {
   "cell_type": "code",
   "execution_count": 6,
   "id": "659d863c",
   "metadata": {},
   "outputs": [
    {
     "data": {
      "text/plain": [
       "<AxesSubplot:>"
      ]
     },
     "execution_count": 6,
     "metadata": {},
     "output_type": "execute_result"
    },
    {
     "data": {
      "image/png": "[encoded data removed]",
      "text/plain": [
       "<Figure size 432x288 with 2 Axes>"
      ]
     },
     "metadata": {
      "needs_background": "light"
     },
     "output_type": "display_data"
    }
   ],
   "source": [
    "sns.heatmap(df.isnull())"
   ]
  },
  {
   "cell_type": "code",
   "execution_count": 7,
   "id": "9aa0a70d",
   "metadata": {},
   "outputs": [],
   "source": [
    "# so as we see there are not any null value are present in our data set "
   ]
  },
  {
   "cell_type": "code",
   "execution_count": 8,
   "id": "35fd61f9",
   "metadata": {},
   "outputs": [],
   "source": [
    "# find out duplicate value are in data set or not "
   ]
  },
  {
   "cell_type": "code",
   "execution_count": 9,
   "id": "cf5a3842",
   "metadata": {},
   "outputs": [
    {
     "data": {
      "text/plain": [
       "0"
      ]
     },
     "execution_count": 9,
     "metadata": {},
     "output_type": "execute_result"
    }
   ],
   "source": [
    "df.duplicated().sum()"
   ]
  },
  {
   "cell_type": "code",
   "execution_count": 10,
   "id": "dc76cfef",
   "metadata": {},
   "outputs": [],
   "source": [
    "# now we are merging the another data "
   ]
  },
  {
   "cell_type": "code",
   "execution_count": 11,
   "id": "f5863f0c",
   "metadata": {},
   "outputs": [],
   "source": [
    "df1  = pd.read_excel(\"Country-Code.xlsx\")"
   ]
  },
  {
   "cell_type": "code",
   "execution_count": 12,
   "id": "e1809a52",
   "metadata": {},
   "outputs": [
    {
     "data": {
      "text/plain": [
       "Country Code    0\n",
       "Country         0\n",
       "dtype: int64"
      ]
     },
     "execution_count": 12,
     "metadata": {},
     "output_type": "execute_result"
    }
   ],
   "source": [
    "df1.isnull().sum()"
   ]
  },
  {
   "cell_type": "code",
   "execution_count": 13,
   "id": "2d5de34a",
   "metadata": {},
   "outputs": [],
   "source": [
    "df_new  =  pd.merge(df , df1 , how=\"left\")"
   ]
  },
  {
   "cell_type": "code",
   "execution_count": 14,
   "id": "962cf920",
   "metadata": {},
   "outputs": [
    {
     "data": {
      "text/html": [
       "<div>\n",
       "<style scoped>\n",
       "    .dataframe tbody tr th:only-of-type {\n",
       "        vertical-align: middle;\n",
       "    }\n",
       "\n",
       "    .dataframe tbody tr th {\n",
       "        vertical-align: top;\n",
       "    }\n",
       "\n",
       "    .dataframe thead th {\n",
       "        text-align: right;\n",
       "    }\n",
       "</style>\n",
       "<table border=\"1\" class=\"dataframe\">\n",
       "  <thead>\n",
       "    <tr style=\"text-align: right;\">\n",
       "      <th></th>\n",
       "      <th>Restaurant ID</th>\n",
       "      <th>Restaurant Name</th>\n",
       "      <th>Country Code</th>\n",
       "      <th>City</th>\n",
       "      <th>Address</th>\n",
       "      <th>Locality</th>\n",
       "      <th>Locality Verbose</th>\n",
       "      <th>Longitude</th>\n",
       "      <th>Latitude</th>\n",
       "      <th>Cuisines</th>\n",
       "      <th>...</th>\n",
       "      <th>Has Table booking</th>\n",
       "      <th>Has Online delivery</th>\n",
       "      <th>Is delivering now</th>\n",
       "      <th>Switch to order menu</th>\n",
       "      <th>Price range</th>\n",
       "      <th>Aggregate rating</th>\n",
       "      <th>Rating color</th>\n",
       "      <th>Rating text</th>\n",
       "      <th>Votes</th>\n",
       "      <th>Country</th>\n",
       "    </tr>\n",
       "  </thead>\n",
       "  <tbody>\n",
       "    <tr>\n",
       "      <th>0</th>\n",
       "      <td>6317637</td>\n",
       "      <td>Le Petit Souffle</td>\n",
       "      <td>162</td>\n",
       "      <td>Makati City</td>\n",
       "      <td>Third Floor, Century City Mall, Kalayaan Avenu...</td>\n",
       "      <td>Century City Mall, Poblacion, Makati City</td>\n",
       "      <td>Century City Mall, Poblacion, Makati City, Mak...</td>\n",
       "      <td>121.027535</td>\n",
       "      <td>14.565443</td>\n",
       "      <td>French, Japanese, Desserts</td>\n",
       "      <td>...</td>\n",
       "      <td>Yes</td>\n",
       "      <td>No</td>\n",
       "      <td>No</td>\n",
       "      <td>No</td>\n",
       "      <td>3</td>\n",
       "      <td>4.8</td>\n",
       "      <td>Dark Green</td>\n",
       "      <td>Excellent</td>\n",
       "      <td>314</td>\n",
       "      <td>Phillipines</td>\n",
       "    </tr>\n",
       "    <tr>\n",
       "      <th>1</th>\n",
       "      <td>6304287</td>\n",
       "      <td>Izakaya Kikufuji</td>\n",
       "      <td>162</td>\n",
       "      <td>Makati City</td>\n",
       "      <td>Little Tokyo, 2277 Chino Roces Avenue, Legaspi...</td>\n",
       "      <td>Little Tokyo, Legaspi Village, Makati City</td>\n",
       "      <td>Little Tokyo, Legaspi Village, Makati City, Ma...</td>\n",
       "      <td>121.014101</td>\n",
       "      <td>14.553708</td>\n",
       "      <td>Japanese</td>\n",
       "      <td>...</td>\n",
       "      <td>Yes</td>\n",
       "      <td>No</td>\n",
       "      <td>No</td>\n",
       "      <td>No</td>\n",
       "      <td>3</td>\n",
       "      <td>4.5</td>\n",
       "      <td>Dark Green</td>\n",
       "      <td>Excellent</td>\n",
       "      <td>591</td>\n",
       "      <td>Phillipines</td>\n",
       "    </tr>\n",
       "    <tr>\n",
       "      <th>2</th>\n",
       "      <td>6300002</td>\n",
       "      <td>Heat - Edsa Shangri-La</td>\n",
       "      <td>162</td>\n",
       "      <td>Mandaluyong City</td>\n",
       "      <td>Edsa Shangri-La, 1 Garden Way, Ortigas, Mandal...</td>\n",
       "      <td>Edsa Shangri-La, Ortigas, Mandaluyong City</td>\n",
       "      <td>Edsa Shangri-La, Ortigas, Mandaluyong City, Ma...</td>\n",
       "      <td>121.056831</td>\n",
       "      <td>14.581404</td>\n",
       "      <td>Seafood, Asian, Filipino, Indian</td>\n",
       "      <td>...</td>\n",
       "      <td>Yes</td>\n",
       "      <td>No</td>\n",
       "      <td>No</td>\n",
       "      <td>No</td>\n",
       "      <td>4</td>\n",
       "      <td>4.4</td>\n",
       "      <td>Green</td>\n",
       "      <td>Very Good</td>\n",
       "      <td>270</td>\n",
       "      <td>Phillipines</td>\n",
       "    </tr>\n",
       "    <tr>\n",
       "      <th>3</th>\n",
       "      <td>6318506</td>\n",
       "      <td>Ooma</td>\n",
       "      <td>162</td>\n",
       "      <td>Mandaluyong City</td>\n",
       "      <td>Third Floor, Mega Fashion Hall, SM Megamall, O...</td>\n",
       "      <td>SM Megamall, Ortigas, Mandaluyong City</td>\n",
       "      <td>SM Megamall, Ortigas, Mandaluyong City, Mandal...</td>\n",
       "      <td>121.056475</td>\n",
       "      <td>14.585318</td>\n",
       "      <td>Japanese, Sushi</td>\n",
       "      <td>...</td>\n",
       "      <td>No</td>\n",
       "      <td>No</td>\n",
       "      <td>No</td>\n",
       "      <td>No</td>\n",
       "      <td>4</td>\n",
       "      <td>4.9</td>\n",
       "      <td>Dark Green</td>\n",
       "      <td>Excellent</td>\n",
       "      <td>365</td>\n",
       "      <td>Phillipines</td>\n",
       "    </tr>\n",
       "    <tr>\n",
       "      <th>4</th>\n",
       "      <td>6314302</td>\n",
       "      <td>Sambo Kojin</td>\n",
       "      <td>162</td>\n",
       "      <td>Mandaluyong City</td>\n",
       "      <td>Third Floor, Mega Atrium, SM Megamall, Ortigas...</td>\n",
       "      <td>SM Megamall, Ortigas, Mandaluyong City</td>\n",
       "      <td>SM Megamall, Ortigas, Mandaluyong City, Mandal...</td>\n",
       "      <td>121.057508</td>\n",
       "      <td>14.584450</td>\n",
       "      <td>Japanese, Korean</td>\n",
       "      <td>...</td>\n",
       "      <td>Yes</td>\n",
       "      <td>No</td>\n",
       "      <td>No</td>\n",
       "      <td>No</td>\n",
       "      <td>4</td>\n",
       "      <td>4.8</td>\n",
       "      <td>Dark Green</td>\n",
       "      <td>Excellent</td>\n",
       "      <td>229</td>\n",
       "      <td>Phillipines</td>\n",
       "    </tr>\n",
       "  </tbody>\n",
       "</table>\n",
       "<p>5 rows × 22 columns</p>\n",
       "</div>"
      ],
      "text/plain": [
       "   Restaurant ID         Restaurant Name  Country Code              City  \\\n",
       "0        6317637        Le Petit Souffle           162       Makati City   \n",
       "1        6304287        Izakaya Kikufuji           162       Makati City   \n",
       "2        6300002  Heat - Edsa Shangri-La           162  Mandaluyong City   \n",
       "3        6318506                    Ooma           162  Mandaluyong City   \n",
       "4        6314302             Sambo Kojin           162  Mandaluyong City   \n",
       "\n",
       "                                             Address  \\\n",
       "0  Third Floor, Century City Mall, Kalayaan Avenu...   \n",
       "1  Little Tokyo, 2277 Chino Roces Avenue, Legaspi...   \n",
       "2  Edsa Shangri-La, 1 Garden Way, Ortigas, Mandal...   \n",
       "3  Third Floor, Mega Fashion Hall, SM Megamall, O...   \n",
       "4  Third Floor, Mega Atrium, SM Megamall, Ortigas...   \n",
       "\n",
       "                                     Locality  \\\n",
       "0   Century City Mall, Poblacion, Makati City   \n",
       "1  Little Tokyo, Legaspi Village, Makati City   \n",
       "2  Edsa Shangri-La, Ortigas, Mandaluyong City   \n",
       "3      SM Megamall, Ortigas, Mandaluyong City   \n",
       "4      SM Megamall, Ortigas, Mandaluyong City   \n",
       "\n",
       "                                    Locality Verbose   Longitude   Latitude  \\\n",
       "0  Century City Mall, Poblacion, Makati City, Mak...  121.027535  14.565443   \n",
       "1  Little Tokyo, Legaspi Village, Makati City, Ma...  121.014101  14.553708   \n",
       "2  Edsa Shangri-La, Ortigas, Mandaluyong City, Ma...  121.056831  14.581404   \n",
       "3  SM Megamall, Ortigas, Mandaluyong City, Mandal...  121.056475  14.585318   \n",
       "4  SM Megamall, Ortigas, Mandaluyong City, Mandal...  121.057508  14.584450   \n",
       "\n",
       "                           Cuisines  ...  Has Table booking  \\\n",
       "0        French, Japanese, Desserts  ...                Yes   \n",
       "1                          Japanese  ...                Yes   \n",
       "2  Seafood, Asian, Filipino, Indian  ...                Yes   \n",
       "3                   Japanese, Sushi  ...                 No   \n",
       "4                  Japanese, Korean  ...                Yes   \n",
       "\n",
       "  Has Online delivery Is delivering now Switch to order menu Price range  \\\n",
       "0                  No                No                   No           3   \n",
       "1                  No                No                   No           3   \n",
       "2                  No                No                   No           4   \n",
       "3                  No                No                   No           4   \n",
       "4                  No                No                   No           4   \n",
       "\n",
       "  Aggregate rating  Rating color  Rating text Votes      Country  \n",
       "0              4.8    Dark Green    Excellent   314  Phillipines  \n",
       "1              4.5    Dark Green    Excellent   591  Phillipines  \n",
       "2              4.4         Green    Very Good   270  Phillipines  \n",
       "3              4.9    Dark Green    Excellent   365  Phillipines  \n",
       "4              4.8    Dark Green    Excellent   229  Phillipines  \n",
       "\n",
       "[5 rows x 22 columns]"
      ]
     },
     "execution_count": 14,
     "metadata": {},
     "output_type": "execute_result"
    }
   ],
   "source": [
    "df_new.head()"
   ]
  },
  {
   "cell_type": "code",
   "execution_count": 15,
   "id": "b1be2ad8",
   "metadata": {},
   "outputs": [
    {
     "data": {
      "text/plain": [
       "India             8652\n",
       "United States      434\n",
       "United Kingdom      80\n",
       "Brazil              60\n",
       "UAE                 60\n",
       "South Africa        60\n",
       "New Zealand         40\n",
       "Turkey              34\n",
       "Australia           24\n",
       "Phillipines         22\n",
       "Indonesia           21\n",
       "Singapore           20\n",
       "Qatar               20\n",
       "Sri Lanka           20\n",
       "Canada               4\n",
       "Name: Country, dtype: int64"
      ]
     },
     "execution_count": 15,
     "metadata": {},
     "output_type": "execute_result"
    }
   ],
   "source": [
    "df_new['Country'].value_counts()"
   ]
  },
  {
   "cell_type": "code",
   "execution_count": 16,
   "id": "f8b36269",
   "metadata": {},
   "outputs": [
    {
     "data": {
      "text/plain": [
       "624                                Jahanpanah\n",
       "625                       Rangrezz Restaurant\n",
       "626                   Time2Eat - Mama Chicken\n",
       "627     Chokho Jeeman Marwari Jain Bhojanalya\n",
       "628                            Pinch Of Spice\n",
       "                        ...                  \n",
       "9271                                 D Cabana\n",
       "9272                                 Kaloreez\n",
       "9273                                  Plot 17\n",
       "9274                         Vista - The Park\n",
       "9275                 Flying Spaghetti Monster\n",
       "Name: Restaurant Name, Length: 8652, dtype: object"
      ]
     },
     "execution_count": 16,
     "metadata": {},
     "output_type": "execute_result"
    }
   ],
   "source": [
    "df_new[df_new['Country']=='India']['Restaurant Name']"
   ]
  },
  {
   "cell_type": "code",
   "execution_count": 17,
   "id": "909825ad",
   "metadata": {},
   "outputs": [],
   "source": [
    "# lets find out is there any restraunt are in delhi "
   ]
  },
  {
   "cell_type": "code",
   "execution_count": 18,
   "id": "fbb8c297",
   "metadata": {},
   "outputs": [
    {
     "data": {
      "text/html": [
       "<div>\n",
       "<style scoped>\n",
       "    .dataframe tbody tr th:only-of-type {\n",
       "        vertical-align: middle;\n",
       "    }\n",
       "\n",
       "    .dataframe tbody tr th {\n",
       "        vertical-align: top;\n",
       "    }\n",
       "\n",
       "    .dataframe thead th {\n",
       "        text-align: right;\n",
       "    }\n",
       "</style>\n",
       "<table border=\"1\" class=\"dataframe\">\n",
       "  <thead>\n",
       "    <tr style=\"text-align: right;\">\n",
       "      <th></th>\n",
       "      <th>Restaurant ID</th>\n",
       "      <th>Restaurant Name</th>\n",
       "      <th>Country Code</th>\n",
       "      <th>City</th>\n",
       "      <th>Address</th>\n",
       "      <th>Locality</th>\n",
       "      <th>Locality Verbose</th>\n",
       "      <th>Longitude</th>\n",
       "      <th>Latitude</th>\n",
       "      <th>Cuisines</th>\n",
       "      <th>...</th>\n",
       "      <th>Currency</th>\n",
       "      <th>Has Table booking</th>\n",
       "      <th>Has Online delivery</th>\n",
       "      <th>Is delivering now</th>\n",
       "      <th>Switch to order menu</th>\n",
       "      <th>Price range</th>\n",
       "      <th>Aggregate rating</th>\n",
       "      <th>Rating color</th>\n",
       "      <th>Rating text</th>\n",
       "      <th>Votes</th>\n",
       "    </tr>\n",
       "  </thead>\n",
       "  <tbody>\n",
       "    <tr>\n",
       "      <th>0</th>\n",
       "      <td>6317637</td>\n",
       "      <td>Le Petit Souffle</td>\n",
       "      <td>162</td>\n",
       "      <td>Makati City</td>\n",
       "      <td>Third Floor, Century City Mall, Kalayaan Avenu...</td>\n",
       "      <td>Century City Mall, Poblacion, Makati City</td>\n",
       "      <td>Century City Mall, Poblacion, Makati City, Mak...</td>\n",
       "      <td>121.027535</td>\n",
       "      <td>14.565443</td>\n",
       "      <td>French, Japanese, Desserts</td>\n",
       "      <td>...</td>\n",
       "      <td>Botswana Pula(P)</td>\n",
       "      <td>Yes</td>\n",
       "      <td>No</td>\n",
       "      <td>No</td>\n",
       "      <td>No</td>\n",
       "      <td>3</td>\n",
       "      <td>4.8</td>\n",
       "      <td>Dark Green</td>\n",
       "      <td>Excellent</td>\n",
       "      <td>314</td>\n",
       "    </tr>\n",
       "  </tbody>\n",
       "</table>\n",
       "<p>1 rows × 21 columns</p>\n",
       "</div>"
      ],
      "text/plain": [
       "   Restaurant ID   Restaurant Name  Country Code         City  \\\n",
       "0        6317637  Le Petit Souffle           162  Makati City   \n",
       "\n",
       "                                             Address  \\\n",
       "0  Third Floor, Century City Mall, Kalayaan Avenu...   \n",
       "\n",
       "                                    Locality  \\\n",
       "0  Century City Mall, Poblacion, Makati City   \n",
       "\n",
       "                                    Locality Verbose   Longitude   Latitude  \\\n",
       "0  Century City Mall, Poblacion, Makati City, Mak...  121.027535  14.565443   \n",
       "\n",
       "                     Cuisines  ...          Currency Has Table booking  \\\n",
       "0  French, Japanese, Desserts  ...  Botswana Pula(P)               Yes   \n",
       "\n",
       "  Has Online delivery Is delivering now Switch to order menu Price range  \\\n",
       "0                  No                No                   No           3   \n",
       "\n",
       "   Aggregate rating  Rating color Rating text Votes  \n",
       "0               4.8    Dark Green   Excellent   314  \n",
       "\n",
       "[1 rows x 21 columns]"
      ]
     },
     "execution_count": 18,
     "metadata": {},
     "output_type": "execute_result"
    }
   ],
   "source": [
    "df.head(1)"
   ]
  },
  {
   "cell_type": "code",
   "execution_count": 19,
   "id": "f57edb82",
   "metadata": {},
   "outputs": [
    {
     "data": {
      "text/plain": [
       "New Delhi           5473\n",
       "Gurgaon             1118\n",
       "Noida               1080\n",
       "Faridabad            251\n",
       "Ghaziabad             25\n",
       "                    ... \n",
       "Panchkula              1\n",
       "Mc Millan              1\n",
       "Mayfield               1\n",
       "Macedon                1\n",
       "Vineland Station       1\n",
       "Name: City, Length: 141, dtype: int64"
      ]
     },
     "execution_count": 19,
     "metadata": {},
     "output_type": "execute_result"
    }
   ],
   "source": [
    "df['City'].value_counts()"
   ]
  },
  {
   "cell_type": "code",
   "execution_count": 20,
   "id": "25473b89",
   "metadata": {},
   "outputs": [
    {
     "data": {
      "text/plain": [
       "1116    Chaudhary Ke Mashhoor Paranthe\n",
       "1117                     Thakur Bakers\n",
       "1118                         FoodByMom\n",
       "1119                         Mr. Brown\n",
       "1120                   Mitalis Kitchen\n",
       "1121                     The Big Scoop\n",
       "1122                     9 Mars Lounge\n",
       "1123                           Barista\n",
       "1124                    Baskin Robbins\n",
       "1125                       Burger King\n",
       "1126                   Cafe Coffee Day\n",
       "1127                   Chinese X'Press\n",
       "1128                             Cinch\n",
       "1129                      Costa Coffee\n",
       "1130                    Domino's Pizza\n",
       "1131                      Dosa X'press\n",
       "1132                      Kebab Xpress\n",
       "1133                      Let's Noodle\n",
       "1134                        McDonald's\n",
       "1135                           Mx Corn\n",
       "1136                    Dunkin' Donuts\n",
       "1137                        Haldiram's\n",
       "1138                     Pind Balluchi\n",
       "1139                  Maini Restaurant\n",
       "1140                     The Dosa King\n",
       "Name: Restaurant Name, dtype: object"
      ]
     },
     "execution_count": 20,
     "metadata": {},
     "output_type": "execute_result"
    }
   ],
   "source": [
    "# list out all the restraunt which was in ghaziabad \n",
    "df[df_new['City']=='Ghaziabad']['Restaurant Name']"
   ]
  },
  {
   "cell_type": "code",
   "execution_count": 21,
   "id": "b25a82a8",
   "metadata": {},
   "outputs": [
    {
     "data": {
      "text/html": [
       "<div>\n",
       "<style scoped>\n",
       "    .dataframe tbody tr th:only-of-type {\n",
       "        vertical-align: middle;\n",
       "    }\n",
       "\n",
       "    .dataframe tbody tr th {\n",
       "        vertical-align: top;\n",
       "    }\n",
       "\n",
       "    .dataframe thead th {\n",
       "        text-align: right;\n",
       "    }\n",
       "</style>\n",
       "<table border=\"1\" class=\"dataframe\">\n",
       "  <thead>\n",
       "    <tr style=\"text-align: right;\">\n",
       "      <th></th>\n",
       "      <th>Restaurant ID</th>\n",
       "      <th>Restaurant Name</th>\n",
       "      <th>Country Code</th>\n",
       "      <th>City</th>\n",
       "      <th>Address</th>\n",
       "      <th>Locality</th>\n",
       "      <th>Locality Verbose</th>\n",
       "      <th>Longitude</th>\n",
       "      <th>Latitude</th>\n",
       "      <th>Cuisines</th>\n",
       "      <th>...</th>\n",
       "      <th>Currency</th>\n",
       "      <th>Has Table booking</th>\n",
       "      <th>Has Online delivery</th>\n",
       "      <th>Is delivering now</th>\n",
       "      <th>Switch to order menu</th>\n",
       "      <th>Price range</th>\n",
       "      <th>Aggregate rating</th>\n",
       "      <th>Rating color</th>\n",
       "      <th>Rating text</th>\n",
       "      <th>Votes</th>\n",
       "    </tr>\n",
       "  </thead>\n",
       "  <tbody>\n",
       "    <tr>\n",
       "      <th>1118</th>\n",
       "      <td>313502</td>\n",
       "      <td>FoodByMom</td>\n",
       "      <td>1</td>\n",
       "      <td>Ghaziabad</td>\n",
       "      <td>Near Shipra Mall, Indirapuram, Ghaziabad</td>\n",
       "      <td>Indirapuram</td>\n",
       "      <td>Indirapuram, Ghaziabad</td>\n",
       "      <td>77.369326</td>\n",
       "      <td>28.635083</td>\n",
       "      <td>North Indian</td>\n",
       "      <td>...</td>\n",
       "      <td>Indian Rupees(Rs.)</td>\n",
       "      <td>No</td>\n",
       "      <td>Yes</td>\n",
       "      <td>No</td>\n",
       "      <td>No</td>\n",
       "      <td>1</td>\n",
       "      <td>3.6</td>\n",
       "      <td>Yellow</td>\n",
       "      <td>Good</td>\n",
       "      <td>161</td>\n",
       "    </tr>\n",
       "    <tr>\n",
       "      <th>1119</th>\n",
       "      <td>18409175</td>\n",
       "      <td>Mr. Brown</td>\n",
       "      <td>1</td>\n",
       "      <td>Ghaziabad</td>\n",
       "      <td>C-1, Saya Zenith, Next to CISF Camp, Opposite ...</td>\n",
       "      <td>Indirapuram</td>\n",
       "      <td>Indirapuram, Ghaziabad</td>\n",
       "      <td>77.378751</td>\n",
       "      <td>28.637449</td>\n",
       "      <td>Fast Food, Cafe, Desserts, Bakery</td>\n",
       "      <td>...</td>\n",
       "      <td>Indian Rupees(Rs.)</td>\n",
       "      <td>No</td>\n",
       "      <td>Yes</td>\n",
       "      <td>No</td>\n",
       "      <td>No</td>\n",
       "      <td>2</td>\n",
       "      <td>3.9</td>\n",
       "      <td>Yellow</td>\n",
       "      <td>Good</td>\n",
       "      <td>52</td>\n",
       "    </tr>\n",
       "    <tr>\n",
       "      <th>1136</th>\n",
       "      <td>309702</td>\n",
       "      <td>Dunkin' Donuts</td>\n",
       "      <td>1</td>\n",
       "      <td>Ghaziabad</td>\n",
       "      <td>19 &amp; 50, Level 2, Shipra Mall, Indirapuram, Gh...</td>\n",
       "      <td>Shipra Mall, Indirapuram</td>\n",
       "      <td>Shipra Mall, Indirapuram, Ghaziabad</td>\n",
       "      <td>77.370194</td>\n",
       "      <td>28.634175</td>\n",
       "      <td>Burger, Desserts, Fast Food</td>\n",
       "      <td>...</td>\n",
       "      <td>Indian Rupees(Rs.)</td>\n",
       "      <td>No</td>\n",
       "      <td>Yes</td>\n",
       "      <td>No</td>\n",
       "      <td>No</td>\n",
       "      <td>2</td>\n",
       "      <td>3.6</td>\n",
       "      <td>Yellow</td>\n",
       "      <td>Good</td>\n",
       "      <td>252</td>\n",
       "    </tr>\n",
       "    <tr>\n",
       "      <th>1137</th>\n",
       "      <td>8601</td>\n",
       "      <td>Haldiram's</td>\n",
       "      <td>1</td>\n",
       "      <td>Ghaziabad</td>\n",
       "      <td>Ground Floor, Shipra Mall, Gulmohar Road, Indi...</td>\n",
       "      <td>Shipra Mall, Indirapuram</td>\n",
       "      <td>Shipra Mall, Indirapuram, Ghaziabad</td>\n",
       "      <td>77.370237</td>\n",
       "      <td>28.633939</td>\n",
       "      <td>North Indian, South Indian, Chinese, Street Fo...</td>\n",
       "      <td>...</td>\n",
       "      <td>Indian Rupees(Rs.)</td>\n",
       "      <td>No</td>\n",
       "      <td>No</td>\n",
       "      <td>No</td>\n",
       "      <td>No</td>\n",
       "      <td>2</td>\n",
       "      <td>3.6</td>\n",
       "      <td>Yellow</td>\n",
       "      <td>Good</td>\n",
       "      <td>187</td>\n",
       "    </tr>\n",
       "  </tbody>\n",
       "</table>\n",
       "<p>4 rows × 21 columns</p>\n",
       "</div>"
      ],
      "text/plain": [
       "      Restaurant ID Restaurant Name  Country Code       City  \\\n",
       "1118         313502       FoodByMom             1  Ghaziabad   \n",
       "1119       18409175       Mr. Brown             1  Ghaziabad   \n",
       "1136         309702  Dunkin' Donuts             1  Ghaziabad   \n",
       "1137           8601      Haldiram's             1  Ghaziabad   \n",
       "\n",
       "                                                Address  \\\n",
       "1118           Near Shipra Mall, Indirapuram, Ghaziabad   \n",
       "1119  C-1, Saya Zenith, Next to CISF Camp, Opposite ...   \n",
       "1136  19 & 50, Level 2, Shipra Mall, Indirapuram, Gh...   \n",
       "1137  Ground Floor, Shipra Mall, Gulmohar Road, Indi...   \n",
       "\n",
       "                      Locality                     Locality Verbose  \\\n",
       "1118               Indirapuram               Indirapuram, Ghaziabad   \n",
       "1119               Indirapuram               Indirapuram, Ghaziabad   \n",
       "1136  Shipra Mall, Indirapuram  Shipra Mall, Indirapuram, Ghaziabad   \n",
       "1137  Shipra Mall, Indirapuram  Shipra Mall, Indirapuram, Ghaziabad   \n",
       "\n",
       "      Longitude   Latitude                                           Cuisines  \\\n",
       "1118  77.369326  28.635083                                       North Indian   \n",
       "1119  77.378751  28.637449                  Fast Food, Cafe, Desserts, Bakery   \n",
       "1136  77.370194  28.634175                        Burger, Desserts, Fast Food   \n",
       "1137  77.370237  28.633939  North Indian, South Indian, Chinese, Street Fo...   \n",
       "\n",
       "      ...            Currency Has Table booking Has Online delivery  \\\n",
       "1118  ...  Indian Rupees(Rs.)                No                 Yes   \n",
       "1119  ...  Indian Rupees(Rs.)                No                 Yes   \n",
       "1136  ...  Indian Rupees(Rs.)                No                 Yes   \n",
       "1137  ...  Indian Rupees(Rs.)                No                  No   \n",
       "\n",
       "     Is delivering now Switch to order menu Price range  Aggregate rating  \\\n",
       "1118                No                   No           1               3.6   \n",
       "1119                No                   No           2               3.9   \n",
       "1136                No                   No           2               3.6   \n",
       "1137                No                   No           2               3.6   \n",
       "\n",
       "      Rating color Rating text Votes  \n",
       "1118        Yellow        Good   161  \n",
       "1119        Yellow        Good    52  \n",
       "1136        Yellow        Good   252  \n",
       "1137        Yellow        Good   187  \n",
       "\n",
       "[4 rows x 21 columns]"
      ]
     },
     "execution_count": 21,
     "metadata": {},
     "output_type": "execute_result"
    }
   ],
   "source": [
    "df[(df['City']=='Ghaziabad')&(df['Rating text']=='Good')]"
   ]
  },
  {
   "cell_type": "code",
   "execution_count": 22,
   "id": "89322f15",
   "metadata": {},
   "outputs": [
    {
     "data": {
      "text/plain": [
       "<AxesSubplot:>"
      ]
     },
     "execution_count": 22,
     "metadata": {},
     "output_type": "execute_result"
    },
    {
     "data": {
      "image/png": "[encoded data removed]",
      "text/plain": [
       "<Figure size 432x288 with 1 Axes>"
      ]
     },
     "metadata": {
      "needs_background": "light"
     },
     "output_type": "display_data"
    }
   ],
   "source": [
    "df_new[df_new['Rating text']=='Excellent']['Country'].value_counts().head(5).plot(kind='bar')"
   ]
  },
  {
   "cell_type": "code",
   "execution_count": 23,
   "id": "faa636f7",
   "metadata": {},
   "outputs": [
    {
     "data": {
      "text/plain": [
       "Turkey       10\n",
       "Indonesia     7\n",
       "Qatar         4\n",
       "Sri Lanka     2\n",
       "Australia     1\n",
       "Name: Country, dtype: int64"
      ]
     },
     "execution_count": 23,
     "metadata": {},
     "output_type": "execute_result"
    }
   ],
   "source": [
    "df_new[df_new['Rating text']=='Excellent']['Country'].value_counts().tail(5)"
   ]
  },
  {
   "cell_type": "code",
   "execution_count": 24,
   "id": "ede6fd56",
   "metadata": {},
   "outputs": [
    {
     "data": {
      "text/plain": [
       "<AxesSubplot:>"
      ]
     },
     "execution_count": 24,
     "metadata": {},
     "output_type": "execute_result"
    },
    {
     "data": {
      "image/png": "[encoded data removed]",
      "text/plain": [
       "<Figure size 432x288 with 1 Axes>"
      ]
     },
     "metadata": {
      "needs_background": "light"
     },
     "output_type": "display_data"
    }
   ],
   "source": [
    "df_new[df_new['Rating text']=='Excellent']['Country'].value_counts().tail(5).plot(kind='bar')"
   ]
  },
  {
   "cell_type": "code",
   "execution_count": 25,
   "id": "e8cce860",
   "metadata": {},
   "outputs": [
    {
     "data": {
      "text/plain": [
       "Average      3678\n",
       "Not rated    2139\n",
       "Good         1847\n",
       "Very Good     692\n",
       "Poor          180\n",
       "Excellent     116\n",
       "Name: Rating text, dtype: int64"
      ]
     },
     "execution_count": 25,
     "metadata": {},
     "output_type": "execute_result"
    }
   ],
   "source": [
    "df_new[df_new['Country']=='India']['Rating text'].value_counts()"
   ]
  },
  {
   "cell_type": "code",
   "execution_count": 26,
   "id": "0ede0648",
   "metadata": {},
   "outputs": [
    {
     "data": {
      "text/plain": [
       "<AxesSubplot:>"
      ]
     },
     "execution_count": 26,
     "metadata": {},
     "output_type": "execute_result"
    },
    {
     "data": {
      "image/png": "[encoded data removed]",
      "text/plain": [
       "<Figure size 432x288 with 1 Axes>"
      ]
     },
     "metadata": {
      "needs_background": "light"
     },
     "output_type": "display_data"
    }
   ],
   "source": [
    "df_new[df_new['Country']=='India']['Rating text'].value_counts().plot(kind='bar')"
   ]
  },
  {
   "cell_type": "code",
   "execution_count": 27,
   "id": "509821bd",
   "metadata": {},
   "outputs": [],
   "source": [
    "# lets find out top 5 country which has poor rating "
   ]
  },
  {
   "cell_type": "code",
   "execution_count": 28,
   "id": "b524dd1e",
   "metadata": {},
   "outputs": [
    {
     "data": {
      "text/plain": [
       "India            180\n",
       "United States      2\n",
       "Australia          1\n",
       "UAE                1\n",
       "New Zealand        1\n",
       "Sri Lanka          1\n",
       "Name: Country, dtype: int64"
      ]
     },
     "execution_count": 28,
     "metadata": {},
     "output_type": "execute_result"
    }
   ],
   "source": [
    "df_new[df_new['Rating text']=='Poor']['Country'].value_counts()"
   ]
  },
  {
   "cell_type": "code",
   "execution_count": 29,
   "id": "eb67c48a",
   "metadata": {},
   "outputs": [],
   "source": [
    "# finding out the list of the restraunt which have poor rating in india "
   ]
  },
  {
   "cell_type": "code",
   "execution_count": 30,
   "id": "6ec782d3",
   "metadata": {},
   "outputs": [
    {
     "data": {
      "text/html": [
       "<div>\n",
       "<style scoped>\n",
       "    .dataframe tbody tr th:only-of-type {\n",
       "        vertical-align: middle;\n",
       "    }\n",
       "\n",
       "    .dataframe tbody tr th {\n",
       "        vertical-align: top;\n",
       "    }\n",
       "\n",
       "    .dataframe thead th {\n",
       "        text-align: right;\n",
       "    }\n",
       "</style>\n",
       "<table border=\"1\" class=\"dataframe\">\n",
       "  <thead>\n",
       "    <tr style=\"text-align: right;\">\n",
       "      <th></th>\n",
       "      <th>Restaurant ID</th>\n",
       "      <th>Restaurant Name</th>\n",
       "      <th>Country Code</th>\n",
       "      <th>City</th>\n",
       "      <th>Address</th>\n",
       "      <th>Locality</th>\n",
       "      <th>Locality Verbose</th>\n",
       "      <th>Longitude</th>\n",
       "      <th>Latitude</th>\n",
       "      <th>Cuisines</th>\n",
       "      <th>...</th>\n",
       "      <th>Has Table booking</th>\n",
       "      <th>Has Online delivery</th>\n",
       "      <th>Is delivering now</th>\n",
       "      <th>Switch to order menu</th>\n",
       "      <th>Price range</th>\n",
       "      <th>Aggregate rating</th>\n",
       "      <th>Rating color</th>\n",
       "      <th>Rating text</th>\n",
       "      <th>Votes</th>\n",
       "      <th>Country</th>\n",
       "    </tr>\n",
       "  </thead>\n",
       "  <tbody>\n",
       "    <tr>\n",
       "      <th>890</th>\n",
       "      <td>311051</td>\n",
       "      <td>KFC</td>\n",
       "      <td>1</td>\n",
       "      <td>Faridabad</td>\n",
       "      <td>Shops 21-22, 2nd Floor, Crown Interiorz Mall, ...</td>\n",
       "      <td>Crown Interiorz Mall, Sector 35, Faridabad</td>\n",
       "      <td>Crown Interiorz Mall, Sector 35, Faridabad, Fa...</td>\n",
       "      <td>77.307060</td>\n",
       "      <td>28.469807</td>\n",
       "      <td>American, Fast Food, Burger</td>\n",
       "      <td>...</td>\n",
       "      <td>No</td>\n",
       "      <td>Yes</td>\n",
       "      <td>No</td>\n",
       "      <td>No</td>\n",
       "      <td>2</td>\n",
       "      <td>2.1</td>\n",
       "      <td>Red</td>\n",
       "      <td>Poor</td>\n",
       "      <td>57</td>\n",
       "      <td>India</td>\n",
       "    </tr>\n",
       "    <tr>\n",
       "      <th>896</th>\n",
       "      <td>8128</td>\n",
       "      <td>Mirage Restro Bar</td>\n",
       "      <td>1</td>\n",
       "      <td>Faridabad</td>\n",
       "      <td>2nd Floor, Crown Plaza Mall, Sector 15-A, Sect...</td>\n",
       "      <td>Crown Plaza Mall, Sector 15, Faridabad</td>\n",
       "      <td>Crown Plaza Mall, Sector 15, Faridabad, Faridabad</td>\n",
       "      <td>77.313102</td>\n",
       "      <td>28.397808</td>\n",
       "      <td>North Indian, Mughlai</td>\n",
       "      <td>...</td>\n",
       "      <td>Yes</td>\n",
       "      <td>No</td>\n",
       "      <td>No</td>\n",
       "      <td>No</td>\n",
       "      <td>3</td>\n",
       "      <td>2.4</td>\n",
       "      <td>Red</td>\n",
       "      <td>Poor</td>\n",
       "      <td>25</td>\n",
       "      <td>India</td>\n",
       "    </tr>\n",
       "    <tr>\n",
       "      <th>1138</th>\n",
       "      <td>1683</td>\n",
       "      <td>Pind Balluchi</td>\n",
       "      <td>1</td>\n",
       "      <td>Ghaziabad</td>\n",
       "      <td>Shop 34-40, Level 3, Shipra Mall, Gulmohar Roa...</td>\n",
       "      <td>Shipra Mall, Indirapuram</td>\n",
       "      <td>Shipra Mall, Indirapuram, Ghaziabad</td>\n",
       "      <td>77.370165</td>\n",
       "      <td>28.633970</td>\n",
       "      <td>North Indian, Mughlai</td>\n",
       "      <td>...</td>\n",
       "      <td>Yes</td>\n",
       "      <td>Yes</td>\n",
       "      <td>No</td>\n",
       "      <td>No</td>\n",
       "      <td>3</td>\n",
       "      <td>1.8</td>\n",
       "      <td>Red</td>\n",
       "      <td>Poor</td>\n",
       "      <td>322</td>\n",
       "      <td>India</td>\n",
       "    </tr>\n",
       "    <tr>\n",
       "      <th>1247</th>\n",
       "      <td>306134</td>\n",
       "      <td>The Wine Company</td>\n",
       "      <td>1</td>\n",
       "      <td>Gurgaon</td>\n",
       "      <td>Cyber Hub, DLF Cyber City, Gurgaon</td>\n",
       "      <td>Cyber Hub, DLF Cyber City</td>\n",
       "      <td>Cyber Hub, DLF Cyber City, Gurgaon</td>\n",
       "      <td>77.089048</td>\n",
       "      <td>28.496229</td>\n",
       "      <td>Italian, European</td>\n",
       "      <td>...</td>\n",
       "      <td>Yes</td>\n",
       "      <td>No</td>\n",
       "      <td>No</td>\n",
       "      <td>No</td>\n",
       "      <td>4</td>\n",
       "      <td>2.4</td>\n",
       "      <td>Red</td>\n",
       "      <td>Poor</td>\n",
       "      <td>2412</td>\n",
       "      <td>India</td>\n",
       "    </tr>\n",
       "    <tr>\n",
       "      <th>1263</th>\n",
       "      <td>225</td>\n",
       "      <td>Domino's Pizza</td>\n",
       "      <td>1</td>\n",
       "      <td>Gurgaon</td>\n",
       "      <td>UGF/RTC 9, Building 8, Tower C, DLF- 2, DLF Cy...</td>\n",
       "      <td>DLF Cyber City</td>\n",
       "      <td>DLF Cyber City, Gurgaon</td>\n",
       "      <td>77.089048</td>\n",
       "      <td>28.494525</td>\n",
       "      <td>Pizza, Fast Food</td>\n",
       "      <td>...</td>\n",
       "      <td>No</td>\n",
       "      <td>No</td>\n",
       "      <td>No</td>\n",
       "      <td>No</td>\n",
       "      <td>2</td>\n",
       "      <td>2.4</td>\n",
       "      <td>Red</td>\n",
       "      <td>Poor</td>\n",
       "      <td>125</td>\n",
       "      <td>India</td>\n",
       "    </tr>\n",
       "    <tr>\n",
       "      <th>...</th>\n",
       "      <td>...</td>\n",
       "      <td>...</td>\n",
       "      <td>...</td>\n",
       "      <td>...</td>\n",
       "      <td>...</td>\n",
       "      <td>...</td>\n",
       "      <td>...</td>\n",
       "      <td>...</td>\n",
       "      <td>...</td>\n",
       "      <td>...</td>\n",
       "      <td>...</td>\n",
       "      <td>...</td>\n",
       "      <td>...</td>\n",
       "      <td>...</td>\n",
       "      <td>...</td>\n",
       "      <td>...</td>\n",
       "      <td>...</td>\n",
       "      <td>...</td>\n",
       "      <td>...</td>\n",
       "      <td>...</td>\n",
       "      <td>...</td>\n",
       "    </tr>\n",
       "    <tr>\n",
       "      <th>9069</th>\n",
       "      <td>428</td>\n",
       "      <td>Sagar Ratna</td>\n",
       "      <td>1</td>\n",
       "      <td>Noida</td>\n",
       "      <td>C-134/B, Supertech Shopprix Mall, Sector 61, N...</td>\n",
       "      <td>Supertech Shopprix Mall, Sector 61</td>\n",
       "      <td>Supertech Shopprix Mall, Sector 61, Noida</td>\n",
       "      <td>77.364833</td>\n",
       "      <td>28.597103</td>\n",
       "      <td>South Indian, North Indian, Chinese</td>\n",
       "      <td>...</td>\n",
       "      <td>No</td>\n",
       "      <td>Yes</td>\n",
       "      <td>No</td>\n",
       "      <td>No</td>\n",
       "      <td>2</td>\n",
       "      <td>2.3</td>\n",
       "      <td>Red</td>\n",
       "      <td>Poor</td>\n",
       "      <td>155</td>\n",
       "      <td>India</td>\n",
       "    </tr>\n",
       "    <tr>\n",
       "      <th>9070</th>\n",
       "      <td>18070483</td>\n",
       "      <td>Subway</td>\n",
       "      <td>1</td>\n",
       "      <td>Noida</td>\n",
       "      <td>Shop 3, Supertech Shopprix Mall, Sector 61, Noida</td>\n",
       "      <td>Supertech Shopprix Mall, Sector 61</td>\n",
       "      <td>Supertech Shopprix Mall, Sector 61, Noida</td>\n",
       "      <td>77.364981</td>\n",
       "      <td>28.596898</td>\n",
       "      <td>American, Fast Food, Salad, Healthy Food</td>\n",
       "      <td>...</td>\n",
       "      <td>No</td>\n",
       "      <td>Yes</td>\n",
       "      <td>No</td>\n",
       "      <td>No</td>\n",
       "      <td>2</td>\n",
       "      <td>2.3</td>\n",
       "      <td>Red</td>\n",
       "      <td>Poor</td>\n",
       "      <td>24</td>\n",
       "      <td>India</td>\n",
       "    </tr>\n",
       "    <tr>\n",
       "      <th>9104</th>\n",
       "      <td>2979</td>\n",
       "      <td>Chopaal</td>\n",
       "      <td>1</td>\n",
       "      <td>Noida</td>\n",
       "      <td>A-2, 3rd Floor, The Great India Place Mall, Se...</td>\n",
       "      <td>The Great India Place, Sector 38</td>\n",
       "      <td>The Great India Place, Sector 38, Noida</td>\n",
       "      <td>77.325308</td>\n",
       "      <td>28.567150</td>\n",
       "      <td>Chinese, North Indian, South Indian, Fast Food</td>\n",
       "      <td>...</td>\n",
       "      <td>No</td>\n",
       "      <td>No</td>\n",
       "      <td>No</td>\n",
       "      <td>No</td>\n",
       "      <td>1</td>\n",
       "      <td>2.0</td>\n",
       "      <td>Red</td>\n",
       "      <td>Poor</td>\n",
       "      <td>161</td>\n",
       "      <td>India</td>\n",
       "    </tr>\n",
       "    <tr>\n",
       "      <th>9105</th>\n",
       "      <td>3237</td>\n",
       "      <td>Club Ice Cube</td>\n",
       "      <td>1</td>\n",
       "      <td>Noida</td>\n",
       "      <td>313, 3rd Floor, The Great India Place Mall, Se...</td>\n",
       "      <td>The Great India Place, Sector 38</td>\n",
       "      <td>The Great India Place, Sector 38, Noida</td>\n",
       "      <td>77.326475</td>\n",
       "      <td>28.568067</td>\n",
       "      <td>North Indian, Continental, Chinese</td>\n",
       "      <td>...</td>\n",
       "      <td>Yes</td>\n",
       "      <td>No</td>\n",
       "      <td>No</td>\n",
       "      <td>No</td>\n",
       "      <td>4</td>\n",
       "      <td>2.0</td>\n",
       "      <td>Red</td>\n",
       "      <td>Poor</td>\n",
       "      <td>230</td>\n",
       "      <td>India</td>\n",
       "    </tr>\n",
       "    <tr>\n",
       "      <th>9106</th>\n",
       "      <td>2025</td>\n",
       "      <td>Moti Mahal Delux Tandoori Trail</td>\n",
       "      <td>1</td>\n",
       "      <td>Noida</td>\n",
       "      <td>Food Court, The Great India Place Mall, Sector...</td>\n",
       "      <td>The Great India Place, Sector 38</td>\n",
       "      <td>The Great India Place, Sector 38, Noida</td>\n",
       "      <td>77.325445</td>\n",
       "      <td>28.567040</td>\n",
       "      <td>North Indian, Mughlai</td>\n",
       "      <td>...</td>\n",
       "      <td>Yes</td>\n",
       "      <td>Yes</td>\n",
       "      <td>No</td>\n",
       "      <td>No</td>\n",
       "      <td>3</td>\n",
       "      <td>2.0</td>\n",
       "      <td>Red</td>\n",
       "      <td>Poor</td>\n",
       "      <td>108</td>\n",
       "      <td>India</td>\n",
       "    </tr>\n",
       "  </tbody>\n",
       "</table>\n",
       "<p>180 rows × 22 columns</p>\n",
       "</div>"
      ],
      "text/plain": [
       "      Restaurant ID                  Restaurant Name  Country Code       City  \\\n",
       "890          311051                              KFC             1  Faridabad   \n",
       "896            8128                Mirage Restro Bar             1  Faridabad   \n",
       "1138           1683                    Pind Balluchi             1  Ghaziabad   \n",
       "1247         306134                 The Wine Company             1    Gurgaon   \n",
       "1263            225                   Domino's Pizza             1    Gurgaon   \n",
       "...             ...                              ...           ...        ...   \n",
       "9069            428                      Sagar Ratna             1      Noida   \n",
       "9070       18070483                           Subway             1      Noida   \n",
       "9104           2979                          Chopaal             1      Noida   \n",
       "9105           3237                    Club Ice Cube             1      Noida   \n",
       "9106           2025  Moti Mahal Delux Tandoori Trail             1      Noida   \n",
       "\n",
       "                                                Address  \\\n",
       "890   Shops 21-22, 2nd Floor, Crown Interiorz Mall, ...   \n",
       "896   2nd Floor, Crown Plaza Mall, Sector 15-A, Sect...   \n",
       "1138  Shop 34-40, Level 3, Shipra Mall, Gulmohar Roa...   \n",
       "1247                 Cyber Hub, DLF Cyber City, Gurgaon   \n",
       "1263  UGF/RTC 9, Building 8, Tower C, DLF- 2, DLF Cy...   \n",
       "...                                                 ...   \n",
       "9069  C-134/B, Supertech Shopprix Mall, Sector 61, N...   \n",
       "9070  Shop 3, Supertech Shopprix Mall, Sector 61, Noida   \n",
       "9104  A-2, 3rd Floor, The Great India Place Mall, Se...   \n",
       "9105  313, 3rd Floor, The Great India Place Mall, Se...   \n",
       "9106  Food Court, The Great India Place Mall, Sector...   \n",
       "\n",
       "                                        Locality  \\\n",
       "890   Crown Interiorz Mall, Sector 35, Faridabad   \n",
       "896       Crown Plaza Mall, Sector 15, Faridabad   \n",
       "1138                    Shipra Mall, Indirapuram   \n",
       "1247                   Cyber Hub, DLF Cyber City   \n",
       "1263                              DLF Cyber City   \n",
       "...                                          ...   \n",
       "9069          Supertech Shopprix Mall, Sector 61   \n",
       "9070          Supertech Shopprix Mall, Sector 61   \n",
       "9104            The Great India Place, Sector 38   \n",
       "9105            The Great India Place, Sector 38   \n",
       "9106            The Great India Place, Sector 38   \n",
       "\n",
       "                                       Locality Verbose  Longitude   Latitude  \\\n",
       "890   Crown Interiorz Mall, Sector 35, Faridabad, Fa...  77.307060  28.469807   \n",
       "896   Crown Plaza Mall, Sector 15, Faridabad, Faridabad  77.313102  28.397808   \n",
       "1138                Shipra Mall, Indirapuram, Ghaziabad  77.370165  28.633970   \n",
       "1247                 Cyber Hub, DLF Cyber City, Gurgaon  77.089048  28.496229   \n",
       "1263                            DLF Cyber City, Gurgaon  77.089048  28.494525   \n",
       "...                                                 ...        ...        ...   \n",
       "9069          Supertech Shopprix Mall, Sector 61, Noida  77.364833  28.597103   \n",
       "9070          Supertech Shopprix Mall, Sector 61, Noida  77.364981  28.596898   \n",
       "9104            The Great India Place, Sector 38, Noida  77.325308  28.567150   \n",
       "9105            The Great India Place, Sector 38, Noida  77.326475  28.568067   \n",
       "9106            The Great India Place, Sector 38, Noida  77.325445  28.567040   \n",
       "\n",
       "                                            Cuisines  ...  Has Table booking  \\\n",
       "890                      American, Fast Food, Burger  ...                 No   \n",
       "896                            North Indian, Mughlai  ...                Yes   \n",
       "1138                           North Indian, Mughlai  ...                Yes   \n",
       "1247                               Italian, European  ...                Yes   \n",
       "1263                                Pizza, Fast Food  ...                 No   \n",
       "...                                              ...  ...                ...   \n",
       "9069             South Indian, North Indian, Chinese  ...                 No   \n",
       "9070        American, Fast Food, Salad, Healthy Food  ...                 No   \n",
       "9104  Chinese, North Indian, South Indian, Fast Food  ...                 No   \n",
       "9105              North Indian, Continental, Chinese  ...                Yes   \n",
       "9106                           North Indian, Mughlai  ...                Yes   \n",
       "\n",
       "     Has Online delivery Is delivering now Switch to order menu Price range  \\\n",
       "890                  Yes                No                   No           2   \n",
       "896                   No                No                   No           3   \n",
       "1138                 Yes                No                   No           3   \n",
       "1247                  No                No                   No           4   \n",
       "1263                  No                No                   No           2   \n",
       "...                  ...               ...                  ...         ...   \n",
       "9069                 Yes                No                   No           2   \n",
       "9070                 Yes                No                   No           2   \n",
       "9104                  No                No                   No           1   \n",
       "9105                  No                No                   No           4   \n",
       "9106                 Yes                No                   No           3   \n",
       "\n",
       "     Aggregate rating  Rating color  Rating text Votes Country  \n",
       "890               2.1           Red         Poor    57   India  \n",
       "896               2.4           Red         Poor    25   India  \n",
       "1138              1.8           Red         Poor   322   India  \n",
       "1247              2.4           Red         Poor  2412   India  \n",
       "1263              2.4           Red         Poor   125   India  \n",
       "...               ...           ...          ...   ...     ...  \n",
       "9069              2.3           Red         Poor   155   India  \n",
       "9070              2.3           Red         Poor    24   India  \n",
       "9104              2.0           Red         Poor   161   India  \n",
       "9105              2.0           Red         Poor   230   India  \n",
       "9106              2.0           Red         Poor   108   India  \n",
       "\n",
       "[180 rows x 22 columns]"
      ]
     },
     "execution_count": 30,
     "metadata": {},
     "output_type": "execute_result"
    }
   ],
   "source": [
    "df_new[(df_new['Rating text']=='Poor')&(df_new['Country']=='India')]"
   ]
  },
  {
   "cell_type": "code",
   "execution_count": 31,
   "id": "d2696503",
   "metadata": {},
   "outputs": [
    {
     "data": {
      "text/plain": [
       "Average      3737\n",
       "Not rated    2148\n",
       "Good         2100\n",
       "Very Good    1079\n",
       "Excellent     301\n",
       "Poor          186\n",
       "Name: Rating text, dtype: int64"
      ]
     },
     "execution_count": 31,
     "metadata": {},
     "output_type": "execute_result"
    }
   ],
   "source": [
    "df['Rating text'].value_counts()"
   ]
  },
  {
   "cell_type": "code",
   "execution_count": 32,
   "id": "e2265e07",
   "metadata": {},
   "outputs": [],
   "source": [
    "import matplotlib.pyplot as plt"
   ]
  },
  {
   "cell_type": "code",
   "execution_count": 33,
   "id": "d30f2f0e",
   "metadata": {},
   "outputs": [
    {
     "data": {
      "text/plain": [
       "[Text(0, 50, '407.409'),\n",
       " Text(0, 50, '19.6167'),\n",
       " Text(0, 50, '428.221'),\n",
       " Text(0, 50, '111.417'),\n",
       " Text(0, 50, '103'),\n",
       " Text(0, 50, '31.9'),\n",
       " Text(0, 50, '493.517'),\n",
       " Text(0, 50, '137.213'),\n",
       " Text(0, 50, '772.095'),\n",
       " Text(0, 50, '243.025'),\n",
       " Text(0, 50, '205.488'),\n",
       " Text(0, 50, '163.8'),\n",
       " Text(0, 50, '315.167'),\n",
       " Text(0, 50, '146.45'),\n",
       " Text(0, 50, '431.471')]"
      ]
     },
     "execution_count": 33,
     "metadata": {},
     "output_type": "execute_result"
    },
    {
     "data": {
      "image/png": "[encoded data removed]",
      "text/plain": [
       "<Figure size 576x576 with 1 Axes>"
      ]
     },
     "metadata": {
      "needs_background": "light"
     },
     "output_type": "display_data"
    }
   ],
   "source": [
    "fig, ax = plt.subplots(figsize=(8, 8))\n",
    "plot = sns.barplot(x='Country' , y='Votes' , data=df_new)\n",
    "plt.setp(plot.get_xticklabels(), rotation=90)\n",
    "plot.bar_label(ax.containers[0], label_type='edge', padding=50)"
   ]
  },
  {
   "cell_type": "code",
   "execution_count": 34,
   "id": "ef89ff2b",
   "metadata": {},
   "outputs": [
    {
     "data": {
      "text/html": [
       "<div>\n",
       "<style scoped>\n",
       "    .dataframe tbody tr th:only-of-type {\n",
       "        vertical-align: middle;\n",
       "    }\n",
       "\n",
       "    .dataframe tbody tr th {\n",
       "        vertical-align: top;\n",
       "    }\n",
       "\n",
       "    .dataframe thead th {\n",
       "        text-align: right;\n",
       "    }\n",
       "</style>\n",
       "<table border=\"1\" class=\"dataframe\">\n",
       "  <thead>\n",
       "    <tr style=\"text-align: right;\">\n",
       "      <th></th>\n",
       "      <th>Restaurant ID</th>\n",
       "      <th>Restaurant Name</th>\n",
       "      <th>Country Code</th>\n",
       "      <th>City</th>\n",
       "      <th>Address</th>\n",
       "      <th>Locality</th>\n",
       "      <th>Locality Verbose</th>\n",
       "      <th>Longitude</th>\n",
       "      <th>Latitude</th>\n",
       "      <th>Cuisines</th>\n",
       "      <th>...</th>\n",
       "      <th>Has Table booking</th>\n",
       "      <th>Has Online delivery</th>\n",
       "      <th>Is delivering now</th>\n",
       "      <th>Switch to order menu</th>\n",
       "      <th>Price range</th>\n",
       "      <th>Aggregate rating</th>\n",
       "      <th>Rating color</th>\n",
       "      <th>Rating text</th>\n",
       "      <th>Votes</th>\n",
       "      <th>Country</th>\n",
       "    </tr>\n",
       "  </thead>\n",
       "  <tbody>\n",
       "    <tr>\n",
       "      <th>0</th>\n",
       "      <td>6317637</td>\n",
       "      <td>Le Petit Souffle</td>\n",
       "      <td>162</td>\n",
       "      <td>Makati City</td>\n",
       "      <td>Third Floor, Century City Mall, Kalayaan Avenu...</td>\n",
       "      <td>Century City Mall, Poblacion, Makati City</td>\n",
       "      <td>Century City Mall, Poblacion, Makati City, Mak...</td>\n",
       "      <td>121.027535</td>\n",
       "      <td>14.565443</td>\n",
       "      <td>French, Japanese, Desserts</td>\n",
       "      <td>...</td>\n",
       "      <td>Yes</td>\n",
       "      <td>No</td>\n",
       "      <td>No</td>\n",
       "      <td>No</td>\n",
       "      <td>3</td>\n",
       "      <td>4.8</td>\n",
       "      <td>Dark Green</td>\n",
       "      <td>Excellent</td>\n",
       "      <td>314</td>\n",
       "      <td>Phillipines</td>\n",
       "    </tr>\n",
       "    <tr>\n",
       "      <th>1</th>\n",
       "      <td>6304287</td>\n",
       "      <td>Izakaya Kikufuji</td>\n",
       "      <td>162</td>\n",
       "      <td>Makati City</td>\n",
       "      <td>Little Tokyo, 2277 Chino Roces Avenue, Legaspi...</td>\n",
       "      <td>Little Tokyo, Legaspi Village, Makati City</td>\n",
       "      <td>Little Tokyo, Legaspi Village, Makati City, Ma...</td>\n",
       "      <td>121.014101</td>\n",
       "      <td>14.553708</td>\n",
       "      <td>Japanese</td>\n",
       "      <td>...</td>\n",
       "      <td>Yes</td>\n",
       "      <td>No</td>\n",
       "      <td>No</td>\n",
       "      <td>No</td>\n",
       "      <td>3</td>\n",
       "      <td>4.5</td>\n",
       "      <td>Dark Green</td>\n",
       "      <td>Excellent</td>\n",
       "      <td>591</td>\n",
       "      <td>Phillipines</td>\n",
       "    </tr>\n",
       "    <tr>\n",
       "      <th>2</th>\n",
       "      <td>6300002</td>\n",
       "      <td>Heat - Edsa Shangri-La</td>\n",
       "      <td>162</td>\n",
       "      <td>Mandaluyong City</td>\n",
       "      <td>Edsa Shangri-La, 1 Garden Way, Ortigas, Mandal...</td>\n",
       "      <td>Edsa Shangri-La, Ortigas, Mandaluyong City</td>\n",
       "      <td>Edsa Shangri-La, Ortigas, Mandaluyong City, Ma...</td>\n",
       "      <td>121.056831</td>\n",
       "      <td>14.581404</td>\n",
       "      <td>Seafood, Asian, Filipino, Indian</td>\n",
       "      <td>...</td>\n",
       "      <td>Yes</td>\n",
       "      <td>No</td>\n",
       "      <td>No</td>\n",
       "      <td>No</td>\n",
       "      <td>4</td>\n",
       "      <td>4.4</td>\n",
       "      <td>Green</td>\n",
       "      <td>Very Good</td>\n",
       "      <td>270</td>\n",
       "      <td>Phillipines</td>\n",
       "    </tr>\n",
       "    <tr>\n",
       "      <th>3</th>\n",
       "      <td>6318506</td>\n",
       "      <td>Ooma</td>\n",
       "      <td>162</td>\n",
       "      <td>Mandaluyong City</td>\n",
       "      <td>Third Floor, Mega Fashion Hall, SM Megamall, O...</td>\n",
       "      <td>SM Megamall, Ortigas, Mandaluyong City</td>\n",
       "      <td>SM Megamall, Ortigas, Mandaluyong City, Mandal...</td>\n",
       "      <td>121.056475</td>\n",
       "      <td>14.585318</td>\n",
       "      <td>Japanese, Sushi</td>\n",
       "      <td>...</td>\n",
       "      <td>No</td>\n",
       "      <td>No</td>\n",
       "      <td>No</td>\n",
       "      <td>No</td>\n",
       "      <td>4</td>\n",
       "      <td>4.9</td>\n",
       "      <td>Dark Green</td>\n",
       "      <td>Excellent</td>\n",
       "      <td>365</td>\n",
       "      <td>Phillipines</td>\n",
       "    </tr>\n",
       "    <tr>\n",
       "      <th>4</th>\n",
       "      <td>6314302</td>\n",
       "      <td>Sambo Kojin</td>\n",
       "      <td>162</td>\n",
       "      <td>Mandaluyong City</td>\n",
       "      <td>Third Floor, Mega Atrium, SM Megamall, Ortigas...</td>\n",
       "      <td>SM Megamall, Ortigas, Mandaluyong City</td>\n",
       "      <td>SM Megamall, Ortigas, Mandaluyong City, Mandal...</td>\n",
       "      <td>121.057508</td>\n",
       "      <td>14.584450</td>\n",
       "      <td>Japanese, Korean</td>\n",
       "      <td>...</td>\n",
       "      <td>Yes</td>\n",
       "      <td>No</td>\n",
       "      <td>No</td>\n",
       "      <td>No</td>\n",
       "      <td>4</td>\n",
       "      <td>4.8</td>\n",
       "      <td>Dark Green</td>\n",
       "      <td>Excellent</td>\n",
       "      <td>229</td>\n",
       "      <td>Phillipines</td>\n",
       "    </tr>\n",
       "  </tbody>\n",
       "</table>\n",
       "<p>5 rows × 22 columns</p>\n",
       "</div>"
      ],
      "text/plain": [
       "   Restaurant ID         Restaurant Name  Country Code              City  \\\n",
       "0        6317637        Le Petit Souffle           162       Makati City   \n",
       "1        6304287        Izakaya Kikufuji           162       Makati City   \n",
       "2        6300002  Heat - Edsa Shangri-La           162  Mandaluyong City   \n",
       "3        6318506                    Ooma           162  Mandaluyong City   \n",
       "4        6314302             Sambo Kojin           162  Mandaluyong City   \n",
       "\n",
       "                                             Address  \\\n",
       "0  Third Floor, Century City Mall, Kalayaan Avenu...   \n",
       "1  Little Tokyo, 2277 Chino Roces Avenue, Legaspi...   \n",
       "2  Edsa Shangri-La, 1 Garden Way, Ortigas, Mandal...   \n",
       "3  Third Floor, Mega Fashion Hall, SM Megamall, O...   \n",
       "4  Third Floor, Mega Atrium, SM Megamall, Ortigas...   \n",
       "\n",
       "                                     Locality  \\\n",
       "0   Century City Mall, Poblacion, Makati City   \n",
       "1  Little Tokyo, Legaspi Village, Makati City   \n",
       "2  Edsa Shangri-La, Ortigas, Mandaluyong City   \n",
       "3      SM Megamall, Ortigas, Mandaluyong City   \n",
       "4      SM Megamall, Ortigas, Mandaluyong City   \n",
       "\n",
       "                                    Locality Verbose   Longitude   Latitude  \\\n",
       "0  Century City Mall, Poblacion, Makati City, Mak...  121.027535  14.565443   \n",
       "1  Little Tokyo, Legaspi Village, Makati City, Ma...  121.014101  14.553708   \n",
       "2  Edsa Shangri-La, Ortigas, Mandaluyong City, Ma...  121.056831  14.581404   \n",
       "3  SM Megamall, Ortigas, Mandaluyong City, Mandal...  121.056475  14.585318   \n",
       "4  SM Megamall, Ortigas, Mandaluyong City, Mandal...  121.057508  14.584450   \n",
       "\n",
       "                           Cuisines  ...  Has Table booking  \\\n",
       "0        French, Japanese, Desserts  ...                Yes   \n",
       "1                          Japanese  ...                Yes   \n",
       "2  Seafood, Asian, Filipino, Indian  ...                Yes   \n",
       "3                   Japanese, Sushi  ...                 No   \n",
       "4                  Japanese, Korean  ...                Yes   \n",
       "\n",
       "  Has Online delivery Is delivering now Switch to order menu Price range  \\\n",
       "0                  No                No                   No           3   \n",
       "1                  No                No                   No           3   \n",
       "2                  No                No                   No           4   \n",
       "3                  No                No                   No           4   \n",
       "4                  No                No                   No           4   \n",
       "\n",
       "  Aggregate rating  Rating color  Rating text Votes      Country  \n",
       "0              4.8    Dark Green    Excellent   314  Phillipines  \n",
       "1              4.5    Dark Green    Excellent   591  Phillipines  \n",
       "2              4.4         Green    Very Good   270  Phillipines  \n",
       "3              4.9    Dark Green    Excellent   365  Phillipines  \n",
       "4              4.8    Dark Green    Excellent   229  Phillipines  \n",
       "\n",
       "[5 rows x 22 columns]"
      ]
     },
     "execution_count": 34,
     "metadata": {},
     "output_type": "execute_result"
    }
   ],
   "source": [
    "df_new.head()"
   ]
  },
  {
   "cell_type": "code",
   "execution_count": 35,
   "id": "645c9b25",
   "metadata": {},
   "outputs": [
    {
     "data": {
      "text/plain": [
       "10934"
      ]
     },
     "execution_count": 35,
     "metadata": {},
     "output_type": "execute_result"
    }
   ],
   "source": [
    "df_new['Votes'].max()"
   ]
  },
  {
   "cell_type": "code",
   "execution_count": 36,
   "id": "30bcbac1",
   "metadata": {},
   "outputs": [
    {
     "data": {
      "text/plain": [
       "728    Toit\n",
       "Name: Restaurant Name, dtype: object"
      ]
     },
     "execution_count": 36,
     "metadata": {},
     "output_type": "execute_result"
    }
   ],
   "source": [
    "df[df['Votes']==10934]['Restaurant Name']"
   ]
  },
  {
   "cell_type": "code",
   "execution_count": 37,
   "id": "46cf929f",
   "metadata": {},
   "outputs": [
    {
     "data": {
      "text/html": [
       "<div>\n",
       "<style scoped>\n",
       "    .dataframe tbody tr th:only-of-type {\n",
       "        vertical-align: middle;\n",
       "    }\n",
       "\n",
       "    .dataframe tbody tr th {\n",
       "        vertical-align: top;\n",
       "    }\n",
       "\n",
       "    .dataframe thead th {\n",
       "        text-align: right;\n",
       "    }\n",
       "</style>\n",
       "<table border=\"1\" class=\"dataframe\">\n",
       "  <thead>\n",
       "    <tr style=\"text-align: right;\">\n",
       "      <th></th>\n",
       "      <th>Restaurant ID</th>\n",
       "      <th>Restaurant Name</th>\n",
       "      <th>Country Code</th>\n",
       "      <th>City</th>\n",
       "      <th>Address</th>\n",
       "      <th>Locality</th>\n",
       "      <th>Locality Verbose</th>\n",
       "      <th>Longitude</th>\n",
       "      <th>Latitude</th>\n",
       "      <th>Cuisines</th>\n",
       "      <th>...</th>\n",
       "      <th>Has Table booking</th>\n",
       "      <th>Has Online delivery</th>\n",
       "      <th>Is delivering now</th>\n",
       "      <th>Switch to order menu</th>\n",
       "      <th>Price range</th>\n",
       "      <th>Aggregate rating</th>\n",
       "      <th>Rating color</th>\n",
       "      <th>Rating text</th>\n",
       "      <th>Votes</th>\n",
       "      <th>Country</th>\n",
       "    </tr>\n",
       "  </thead>\n",
       "  <tbody>\n",
       "    <tr>\n",
       "      <th>69</th>\n",
       "      <td>6710645</td>\n",
       "      <td>Cantinho da Gula</td>\n",
       "      <td>30</td>\n",
       "      <td>Sí£o Paulo</td>\n",
       "      <td>Rua Pedroso Alvarenga, 522, Itaim Bibi, Sí£o P...</td>\n",
       "      <td>Itaim Bibi</td>\n",
       "      <td>Itaim Bibi, Sí£o Paulo</td>\n",
       "      <td>-46.675667</td>\n",
       "      <td>-23.581000</td>\n",
       "      <td>Brazilian</td>\n",
       "      <td>...</td>\n",
       "      <td>No</td>\n",
       "      <td>No</td>\n",
       "      <td>No</td>\n",
       "      <td>No</td>\n",
       "      <td>2</td>\n",
       "      <td>0.0</td>\n",
       "      <td>White</td>\n",
       "      <td>Not rated</td>\n",
       "      <td>0</td>\n",
       "      <td>Brazil</td>\n",
       "    </tr>\n",
       "    <tr>\n",
       "      <th>874</th>\n",
       "      <td>18433852</td>\n",
       "      <td>The Chaiwalas</td>\n",
       "      <td>1</td>\n",
       "      <td>Faridabad</td>\n",
       "      <td>Sector 21 A, Asian Hospital, Badhkal Chowk, Ba...</td>\n",
       "      <td>Badkal Lake</td>\n",
       "      <td>Badkal Lake, Faridabad</td>\n",
       "      <td>77.300088</td>\n",
       "      <td>28.426284</td>\n",
       "      <td>Cafe</td>\n",
       "      <td>...</td>\n",
       "      <td>No</td>\n",
       "      <td>No</td>\n",
       "      <td>No</td>\n",
       "      <td>No</td>\n",
       "      <td>1</td>\n",
       "      <td>0.0</td>\n",
       "      <td>White</td>\n",
       "      <td>Not rated</td>\n",
       "      <td>0</td>\n",
       "      <td>India</td>\n",
       "    </tr>\n",
       "    <tr>\n",
       "      <th>879</th>\n",
       "      <td>18465871</td>\n",
       "      <td>Fusion Food Corner</td>\n",
       "      <td>1</td>\n",
       "      <td>Faridabad</td>\n",
       "      <td>158/7, Opposite DDA Flat, Pul Pehlad Pur, Char...</td>\n",
       "      <td>Charmwood Village</td>\n",
       "      <td>Charmwood Village, Faridabad</td>\n",
       "      <td>0.000000</td>\n",
       "      <td>0.000000</td>\n",
       "      <td>North Indian, Chinese</td>\n",
       "      <td>...</td>\n",
       "      <td>No</td>\n",
       "      <td>No</td>\n",
       "      <td>No</td>\n",
       "      <td>No</td>\n",
       "      <td>1</td>\n",
       "      <td>0.0</td>\n",
       "      <td>White</td>\n",
       "      <td>Not rated</td>\n",
       "      <td>0</td>\n",
       "      <td>India</td>\n",
       "    </tr>\n",
       "    <tr>\n",
       "      <th>880</th>\n",
       "      <td>18472646</td>\n",
       "      <td>Punjabi Rasoi</td>\n",
       "      <td>1</td>\n",
       "      <td>Faridabad</td>\n",
       "      <td>1, Deepak Complex, Eros Charmwood Village, Far...</td>\n",
       "      <td>Charmwood Village</td>\n",
       "      <td>Charmwood Village, Faridabad</td>\n",
       "      <td>77.292431</td>\n",
       "      <td>28.492325</td>\n",
       "      <td>North Indian</td>\n",
       "      <td>...</td>\n",
       "      <td>No</td>\n",
       "      <td>No</td>\n",
       "      <td>No</td>\n",
       "      <td>No</td>\n",
       "      <td>1</td>\n",
       "      <td>0.0</td>\n",
       "      <td>White</td>\n",
       "      <td>Not rated</td>\n",
       "      <td>0</td>\n",
       "      <td>India</td>\n",
       "    </tr>\n",
       "    <tr>\n",
       "      <th>887</th>\n",
       "      <td>18471268</td>\n",
       "      <td>Baskin Robbin</td>\n",
       "      <td>1</td>\n",
       "      <td>Faridabad</td>\n",
       "      <td>Ground Floor, Crown Interiorz Mall, Sector 35,...</td>\n",
       "      <td>Crown Interiorz Mall, Sector 35, Faridabad</td>\n",
       "      <td>Crown Interiorz Mall, Sector 35, Faridabad, Fa...</td>\n",
       "      <td>77.307448</td>\n",
       "      <td>28.469594</td>\n",
       "      <td>Desserts</td>\n",
       "      <td>...</td>\n",
       "      <td>No</td>\n",
       "      <td>No</td>\n",
       "      <td>No</td>\n",
       "      <td>No</td>\n",
       "      <td>1</td>\n",
       "      <td>0.0</td>\n",
       "      <td>White</td>\n",
       "      <td>Not rated</td>\n",
       "      <td>0</td>\n",
       "      <td>India</td>\n",
       "    </tr>\n",
       "    <tr>\n",
       "      <th>...</th>\n",
       "      <td>...</td>\n",
       "      <td>...</td>\n",
       "      <td>...</td>\n",
       "      <td>...</td>\n",
       "      <td>...</td>\n",
       "      <td>...</td>\n",
       "      <td>...</td>\n",
       "      <td>...</td>\n",
       "      <td>...</td>\n",
       "      <td>...</td>\n",
       "      <td>...</td>\n",
       "      <td>...</td>\n",
       "      <td>...</td>\n",
       "      <td>...</td>\n",
       "      <td>...</td>\n",
       "      <td>...</td>\n",
       "      <td>...</td>\n",
       "      <td>...</td>\n",
       "      <td>...</td>\n",
       "      <td>...</td>\n",
       "      <td>...</td>\n",
       "    </tr>\n",
       "    <tr>\n",
       "      <th>9044</th>\n",
       "      <td>18486858</td>\n",
       "      <td>6 Packs Momos</td>\n",
       "      <td>1</td>\n",
       "      <td>Noida</td>\n",
       "      <td>Spice World Mall, Sector 25, Noida</td>\n",
       "      <td>Spice World Mall, Sector 25</td>\n",
       "      <td>Spice World Mall, Sector 25, Noida</td>\n",
       "      <td>77.340602</td>\n",
       "      <td>28.586000</td>\n",
       "      <td>Chinese</td>\n",
       "      <td>...</td>\n",
       "      <td>No</td>\n",
       "      <td>No</td>\n",
       "      <td>No</td>\n",
       "      <td>No</td>\n",
       "      <td>1</td>\n",
       "      <td>0.0</td>\n",
       "      <td>White</td>\n",
       "      <td>Not rated</td>\n",
       "      <td>0</td>\n",
       "      <td>India</td>\n",
       "    </tr>\n",
       "    <tr>\n",
       "      <th>9098</th>\n",
       "      <td>18431152</td>\n",
       "      <td>Cafe' Wow</td>\n",
       "      <td>1</td>\n",
       "      <td>Noida</td>\n",
       "      <td>Food Court, 3rd Floor, The Great India Palace ...</td>\n",
       "      <td>The Great India Place, Sector 38</td>\n",
       "      <td>The Great India Place, Sector 38, Noida</td>\n",
       "      <td>77.325600</td>\n",
       "      <td>28.567514</td>\n",
       "      <td>Fast Food</td>\n",
       "      <td>...</td>\n",
       "      <td>No</td>\n",
       "      <td>No</td>\n",
       "      <td>No</td>\n",
       "      <td>No</td>\n",
       "      <td>1</td>\n",
       "      <td>0.0</td>\n",
       "      <td>White</td>\n",
       "      <td>Not rated</td>\n",
       "      <td>0</td>\n",
       "      <td>India</td>\n",
       "    </tr>\n",
       "    <tr>\n",
       "      <th>9099</th>\n",
       "      <td>18439721</td>\n",
       "      <td>Chef's Basket Pop Up Cafí©</td>\n",
       "      <td>1</td>\n",
       "      <td>Noida</td>\n",
       "      <td>Inside Big Bazaar, The Great India Place, Sect...</td>\n",
       "      <td>The Great India Place, Sector 38</td>\n",
       "      <td>The Great India Place, Sector 38, Noida</td>\n",
       "      <td>0.000000</td>\n",
       "      <td>0.000000</td>\n",
       "      <td>Italian, Chinese</td>\n",
       "      <td>...</td>\n",
       "      <td>No</td>\n",
       "      <td>No</td>\n",
       "      <td>No</td>\n",
       "      <td>No</td>\n",
       "      <td>1</td>\n",
       "      <td>0.0</td>\n",
       "      <td>White</td>\n",
       "      <td>Not rated</td>\n",
       "      <td>0</td>\n",
       "      <td>India</td>\n",
       "    </tr>\n",
       "    <tr>\n",
       "      <th>9103</th>\n",
       "      <td>18428504</td>\n",
       "      <td>The Hangout-Deli</td>\n",
       "      <td>1</td>\n",
       "      <td>Noida</td>\n",
       "      <td>320-A, 3rd Floor, The Great India Place Mall, ...</td>\n",
       "      <td>The Great India Place, Sector 38</td>\n",
       "      <td>The Great India Place, Sector 38, Noida</td>\n",
       "      <td>77.323213</td>\n",
       "      <td>28.567751</td>\n",
       "      <td>Continental, Lebanese, Mexican</td>\n",
       "      <td>...</td>\n",
       "      <td>Yes</td>\n",
       "      <td>No</td>\n",
       "      <td>No</td>\n",
       "      <td>No</td>\n",
       "      <td>3</td>\n",
       "      <td>0.0</td>\n",
       "      <td>White</td>\n",
       "      <td>Not rated</td>\n",
       "      <td>0</td>\n",
       "      <td>India</td>\n",
       "    </tr>\n",
       "    <tr>\n",
       "      <th>9111</th>\n",
       "      <td>18254559</td>\n",
       "      <td>Platters</td>\n",
       "      <td>1</td>\n",
       "      <td>Noida</td>\n",
       "      <td>Shop 1, Tulip Mall, Near HDFC Bank, Sector 48,...</td>\n",
       "      <td>Tulip Mall, Sector 48, Noida</td>\n",
       "      <td>Tulip Mall, Sector 48, Noida, Noida</td>\n",
       "      <td>77.367322</td>\n",
       "      <td>28.557930</td>\n",
       "      <td>North Indian, Chinese</td>\n",
       "      <td>...</td>\n",
       "      <td>No</td>\n",
       "      <td>No</td>\n",
       "      <td>No</td>\n",
       "      <td>No</td>\n",
       "      <td>2</td>\n",
       "      <td>0.0</td>\n",
       "      <td>White</td>\n",
       "      <td>Not rated</td>\n",
       "      <td>0</td>\n",
       "      <td>India</td>\n",
       "    </tr>\n",
       "  </tbody>\n",
       "</table>\n",
       "<p>1094 rows × 22 columns</p>\n",
       "</div>"
      ],
      "text/plain": [
       "      Restaurant ID             Restaurant Name  Country Code        City  \\\n",
       "69          6710645            Cantinho da Gula            30  Sí£o Paulo   \n",
       "874        18433852               The Chaiwalas             1   Faridabad   \n",
       "879        18465871          Fusion Food Corner             1   Faridabad   \n",
       "880        18472646               Punjabi Rasoi             1   Faridabad   \n",
       "887        18471268               Baskin Robbin             1   Faridabad   \n",
       "...             ...                         ...           ...         ...   \n",
       "9044       18486858               6 Packs Momos             1       Noida   \n",
       "9098       18431152                   Cafe' Wow             1       Noida   \n",
       "9099       18439721  Chef's Basket Pop Up Cafí©             1       Noida   \n",
       "9103       18428504            The Hangout-Deli             1       Noida   \n",
       "9111       18254559                    Platters             1       Noida   \n",
       "\n",
       "                                                Address  \\\n",
       "69    Rua Pedroso Alvarenga, 522, Itaim Bibi, Sí£o P...   \n",
       "874   Sector 21 A, Asian Hospital, Badhkal Chowk, Ba...   \n",
       "879   158/7, Opposite DDA Flat, Pul Pehlad Pur, Char...   \n",
       "880   1, Deepak Complex, Eros Charmwood Village, Far...   \n",
       "887   Ground Floor, Crown Interiorz Mall, Sector 35,...   \n",
       "...                                                 ...   \n",
       "9044                 Spice World Mall, Sector 25, Noida   \n",
       "9098  Food Court, 3rd Floor, The Great India Palace ...   \n",
       "9099  Inside Big Bazaar, The Great India Place, Sect...   \n",
       "9103  320-A, 3rd Floor, The Great India Place Mall, ...   \n",
       "9111  Shop 1, Tulip Mall, Near HDFC Bank, Sector 48,...   \n",
       "\n",
       "                                        Locality  \\\n",
       "69                                    Itaim Bibi   \n",
       "874                                  Badkal Lake   \n",
       "879                            Charmwood Village   \n",
       "880                            Charmwood Village   \n",
       "887   Crown Interiorz Mall, Sector 35, Faridabad   \n",
       "...                                          ...   \n",
       "9044                 Spice World Mall, Sector 25   \n",
       "9098            The Great India Place, Sector 38   \n",
       "9099            The Great India Place, Sector 38   \n",
       "9103            The Great India Place, Sector 38   \n",
       "9111                Tulip Mall, Sector 48, Noida   \n",
       "\n",
       "                                       Locality Verbose  Longitude   Latitude  \\\n",
       "69                               Itaim Bibi, Sí£o Paulo -46.675667 -23.581000   \n",
       "874                              Badkal Lake, Faridabad  77.300088  28.426284   \n",
       "879                        Charmwood Village, Faridabad   0.000000   0.000000   \n",
       "880                        Charmwood Village, Faridabad  77.292431  28.492325   \n",
       "887   Crown Interiorz Mall, Sector 35, Faridabad, Fa...  77.307448  28.469594   \n",
       "...                                                 ...        ...        ...   \n",
       "9044                 Spice World Mall, Sector 25, Noida  77.340602  28.586000   \n",
       "9098            The Great India Place, Sector 38, Noida  77.325600  28.567514   \n",
       "9099            The Great India Place, Sector 38, Noida   0.000000   0.000000   \n",
       "9103            The Great India Place, Sector 38, Noida  77.323213  28.567751   \n",
       "9111                Tulip Mall, Sector 48, Noida, Noida  77.367322  28.557930   \n",
       "\n",
       "                            Cuisines  ...  Has Table booking  \\\n",
       "69                         Brazilian  ...                 No   \n",
       "874                             Cafe  ...                 No   \n",
       "879            North Indian, Chinese  ...                 No   \n",
       "880                     North Indian  ...                 No   \n",
       "887                         Desserts  ...                 No   \n",
       "...                              ...  ...                ...   \n",
       "9044                         Chinese  ...                 No   \n",
       "9098                       Fast Food  ...                 No   \n",
       "9099                Italian, Chinese  ...                 No   \n",
       "9103  Continental, Lebanese, Mexican  ...                Yes   \n",
       "9111           North Indian, Chinese  ...                 No   \n",
       "\n",
       "     Has Online delivery Is delivering now Switch to order menu Price range  \\\n",
       "69                    No                No                   No           2   \n",
       "874                   No                No                   No           1   \n",
       "879                   No                No                   No           1   \n",
       "880                   No                No                   No           1   \n",
       "887                   No                No                   No           1   \n",
       "...                  ...               ...                  ...         ...   \n",
       "9044                  No                No                   No           1   \n",
       "9098                  No                No                   No           1   \n",
       "9099                  No                No                   No           1   \n",
       "9103                  No                No                   No           3   \n",
       "9111                  No                No                   No           2   \n",
       "\n",
       "     Aggregate rating  Rating color  Rating text Votes Country  \n",
       "69                0.0         White    Not rated     0  Brazil  \n",
       "874               0.0         White    Not rated     0   India  \n",
       "879               0.0         White    Not rated     0   India  \n",
       "880               0.0         White    Not rated     0   India  \n",
       "887               0.0         White    Not rated     0   India  \n",
       "...               ...           ...          ...   ...     ...  \n",
       "9044              0.0         White    Not rated     0   India  \n",
       "9098              0.0         White    Not rated     0   India  \n",
       "9099              0.0         White    Not rated     0   India  \n",
       "9103              0.0         White    Not rated     0   India  \n",
       "9111              0.0         White    Not rated     0   India  \n",
       "\n",
       "[1094 rows x 22 columns]"
      ]
     },
     "execution_count": 37,
     "metadata": {},
     "output_type": "execute_result"
    }
   ],
   "source": [
    "df_new[df_new['Votes']==0]"
   ]
  },
  {
   "cell_type": "code",
   "execution_count": 38,
   "id": "75af9dae",
   "metadata": {},
   "outputs": [
    {
     "data": {
      "text/plain": [
       "9542"
      ]
     },
     "execution_count": 38,
     "metadata": {},
     "output_type": "execute_result"
    }
   ],
   "source": [
    "df_new['Cuisines'].value_counts().sum()"
   ]
  },
  {
   "cell_type": "code",
   "execution_count": 39,
   "id": "c44f1416",
   "metadata": {},
   "outputs": [
    {
     "data": {
      "text/plain": [
       "9551"
      ]
     },
     "execution_count": 39,
     "metadata": {},
     "output_type": "execute_result"
    }
   ],
   "source": [
    "df_new.shape[0]"
   ]
  },
  {
   "cell_type": "code",
   "execution_count": null,
   "id": "f4eac4fd",
   "metadata": {},
   "outputs": [],
   "source": [
    "CrosstabResult=pd.crosstab(index=LoanData[''],columns=LoanData['APPROVE_LOAN'])\n",
    "print(CrosstabResult)\n",
    " \n",
    "# Grouped bar chart between GENDER and APPROVE_LOAN\n",
    "%matplotlib inline # only needed for jupyter notebook\n",
    "CrosstabResult.plot.bar()"
   ]
  },
  {
   "cell_type": "code",
   "execution_count": 40,
   "id": "062fec4b",
   "metadata": {},
   "outputs": [],
   "source": [
    "CrosstabResult=pd.crosstab(index=df_new['Rating text'],columns=df_new['Country'])"
   ]
  },
  {
   "cell_type": "code",
   "execution_count": 41,
   "id": "2ac18e0e",
   "metadata": {},
   "outputs": [
    {
     "name": "stdout",
     "output_type": "stream",
     "text": [
      "Country      Australia  Brazil  Canada  India  Indonesia  New Zealand  \\\n",
      "Rating text                                                             \n",
      "Average              4       8       2   3678          1            0   \n",
      "Excellent            1      16       0    116          7           12   \n",
      "Good                13      11       1   1847          3            2   \n",
      "Not rated            0       5       0   2139          0            0   \n",
      "Poor                 1       0       0    180          0            1   \n",
      "Very Good            5      20       1    692         10           25   \n",
      "\n",
      "Country      Phillipines  Qatar  Singapore  South Africa  Sri Lanka  Turkey  \\\n",
      "Rating text                                                                   \n",
      "Average                0      2          9             1          2       1   \n",
      "Excellent             12      4          0            12          2      10   \n",
      "Good                   1      7          8            12          4       3   \n",
      "Not rated              0      0          0             0          0       0   \n",
      "Poor                   0      0          0             0          1       0   \n",
      "Very Good              9      7          3            35         11      20   \n",
      "\n",
      "Country      UAE  United Kingdom  United States  \n",
      "Rating text                                      \n",
      "Average        1               5             23  \n",
      "Excellent     18              23             68  \n",
      "Good           9              20            159  \n",
      "Not rated      0               1              3  \n",
      "Poor           1               0              2  \n",
      "Very Good     31              31            179  \n"
     ]
    }
   ],
   "source": [
    "print(CrosstabResult)"
   ]
  },
  {
   "cell_type": "code",
   "execution_count": 44,
   "id": "06389f45",
   "metadata": {},
   "outputs": [],
   "source": [
    "# lets plot the bar graph according to rating across country "
   ]
  },
  {
   "cell_type": "code",
   "execution_count": 45,
   "id": "0812b104",
   "metadata": {},
   "outputs": [
    {
     "data": {
      "text/plain": [
       "array(['Excellent', 'Very Good', 'Good', 'Average', 'Not rated', 'Poor'],\n",
       "      dtype=object)"
      ]
     },
     "execution_count": 45,
     "metadata": {},
     "output_type": "execute_result"
    }
   ],
   "source": [
    "df_new['Rating text'].unique()"
   ]
  },
  {
   "cell_type": "code",
   "execution_count": 46,
   "id": "ee393e4f",
   "metadata": {},
   "outputs": [],
   "source": [
    "# for excellent "
   ]
  },
  {
   "cell_type": "code",
   "execution_count": 50,
   "id": "54b72638",
   "metadata": {},
   "outputs": [
    {
     "data": {
      "text/plain": [
       "<AxesSubplot:>"
      ]
     },
     "execution_count": 50,
     "metadata": {},
     "output_type": "execute_result"
    },
    {
     "data": {
      "image/png": "[encoded data removed]",
      "text/plain": [
       "<Figure size 432x288 with 1 Axes>"
      ]
     },
     "metadata": {
      "needs_background": "light"
     },
     "output_type": "display_data"
    }
   ],
   "source": [
    "df_new[df_new['Rating text']=='Excellent']['Country'].value_counts().plot(kind='bar')"
   ]
  },
  {
   "cell_type": "code",
   "execution_count": 51,
   "id": "3fe5a3c3",
   "metadata": {},
   "outputs": [],
   "source": [
    "# for Very Good "
   ]
  },
  {
   "cell_type": "code",
   "execution_count": 52,
   "id": "8a2ed93a",
   "metadata": {},
   "outputs": [
    {
     "data": {
      "text/plain": [
       "<AxesSubplot:>"
      ]
     },
     "execution_count": 52,
     "metadata": {},
     "output_type": "execute_result"
    },
    {
     "data": {
      "image/png": "[encoded data removed]",
      "text/plain": [
       "<Figure size 432x288 with 1 Axes>"
      ]
     },
     "metadata": {
      "needs_background": "light"
     },
     "output_type": "display_data"
    }
   ],
   "source": [
    "df_new[df_new['Rating text']=='Very Good']['Country'].value_counts().plot(kind='bar')"
   ]
  },
  {
   "cell_type": "code",
   "execution_count": 53,
   "id": "0a6d9264",
   "metadata": {},
   "outputs": [],
   "source": [
    "# for good "
   ]
  },
  {
   "cell_type": "code",
   "execution_count": 54,
   "id": "22e69739",
   "metadata": {},
   "outputs": [
    {
     "data": {
      "text/plain": [
       "<AxesSubplot:>"
      ]
     },
     "execution_count": 54,
     "metadata": {},
     "output_type": "execute_result"
    },
    {
     "data": {
      "image/png": "[encoded data removed]",
      "text/plain": [
       "<Figure size 432x288 with 1 Axes>"
      ]
     },
     "metadata": {
      "needs_background": "light"
     },
     "output_type": "display_data"
    }
   ],
   "source": [
    "df_new[df_new['Rating text']=='Good']['Country'].value_counts().plot(kind='bar')"
   ]
  },
  {
   "cell_type": "code",
   "execution_count": 55,
   "id": "bfa60295",
   "metadata": {},
   "outputs": [],
   "source": [
    "# for average "
   ]
  },
  {
   "cell_type": "code",
   "execution_count": 57,
   "id": "947171c6",
   "metadata": {},
   "outputs": [
    {
     "data": {
      "text/plain": [
       "<AxesSubplot:>"
      ]
     },
     "execution_count": 57,
     "metadata": {},
     "output_type": "execute_result"
    },
    {
     "data": {
      "image/png": "[encoded data removed]",
      "text/plain": [
       "<Figure size 432x288 with 1 Axes>"
      ]
     },
     "metadata": {
      "needs_background": "light"
     },
     "output_type": "display_data"
    }
   ],
   "source": [
    "df_new[df_new['Rating text']=='Average']['Country'].value_counts().plot(kind='bar')"
   ]
  },
  {
   "cell_type": "code",
   "execution_count": 58,
   "id": "2161f67a",
   "metadata": {},
   "outputs": [],
   "source": [
    "# for not rated restraunt "
   ]
  },
  {
   "cell_type": "code",
   "execution_count": 60,
   "id": "0051d832",
   "metadata": {},
   "outputs": [
    {
     "data": {
      "text/plain": [
       "<AxesSubplot:>"
      ]
     },
     "execution_count": 60,
     "metadata": {},
     "output_type": "execute_result"
    },
    {
     "data": {
      "image/png": "[encoded data removed]",
      "text/plain": [
       "<Figure size 432x288 with 1 Axes>"
      ]
     },
     "metadata": {
      "needs_background": "light"
     },
     "output_type": "display_data"
    }
   ],
   "source": [
    "df_new[df_new['Rating text']=='Not rated']['Country'].value_counts().plot(kind='bar')"
   ]
  },
  {
   "cell_type": "code",
   "execution_count": 61,
   "id": "fb3fafb0",
   "metadata": {},
   "outputs": [],
   "source": [
    "# for Poor "
   ]
  },
  {
   "cell_type": "code",
   "execution_count": 62,
   "id": "b7c352a3",
   "metadata": {},
   "outputs": [
    {
     "data": {
      "text/plain": [
       "<AxesSubplot:>"
      ]
     },
     "execution_count": 62,
     "metadata": {},
     "output_type": "execute_result"
    },
    {
     "data": {
      "image/png": "[encoded data removed]",
      "text/plain": [
       "<Figure size 432x288 with 1 Axes>"
      ]
     },
     "metadata": {
      "needs_background": "light"
     },
     "output_type": "display_data"
    }
   ],
   "source": [
    "df_new[df_new['Rating text']=='Poor']['Country'].value_counts().plot(kind='bar')"
   ]
  },
  {
   "cell_type": "code",
   "execution_count": 63,
   "id": "76da105d",
   "metadata": {},
   "outputs": [
    {
     "data": {
      "text/html": [
       "<div>\n",
       "<style scoped>\n",
       "    .dataframe tbody tr th:only-of-type {\n",
       "        vertical-align: middle;\n",
       "    }\n",
       "\n",
       "    .dataframe tbody tr th {\n",
       "        vertical-align: top;\n",
       "    }\n",
       "\n",
       "    .dataframe thead th {\n",
       "        text-align: right;\n",
       "    }\n",
       "</style>\n",
       "<table border=\"1\" class=\"dataframe\">\n",
       "  <thead>\n",
       "    <tr style=\"text-align: right;\">\n",
       "      <th></th>\n",
       "      <th>Restaurant ID</th>\n",
       "      <th>Restaurant Name</th>\n",
       "      <th>Country Code</th>\n",
       "      <th>City</th>\n",
       "      <th>Address</th>\n",
       "      <th>Locality</th>\n",
       "      <th>Locality Verbose</th>\n",
       "      <th>Longitude</th>\n",
       "      <th>Latitude</th>\n",
       "      <th>Cuisines</th>\n",
       "      <th>...</th>\n",
       "      <th>Has Table booking</th>\n",
       "      <th>Has Online delivery</th>\n",
       "      <th>Is delivering now</th>\n",
       "      <th>Switch to order menu</th>\n",
       "      <th>Price range</th>\n",
       "      <th>Aggregate rating</th>\n",
       "      <th>Rating color</th>\n",
       "      <th>Rating text</th>\n",
       "      <th>Votes</th>\n",
       "      <th>Country</th>\n",
       "    </tr>\n",
       "  </thead>\n",
       "  <tbody>\n",
       "    <tr>\n",
       "      <th>0</th>\n",
       "      <td>6317637</td>\n",
       "      <td>Le Petit Souffle</td>\n",
       "      <td>162</td>\n",
       "      <td>Makati City</td>\n",
       "      <td>Third Floor, Century City Mall, Kalayaan Avenu...</td>\n",
       "      <td>Century City Mall, Poblacion, Makati City</td>\n",
       "      <td>Century City Mall, Poblacion, Makati City, Mak...</td>\n",
       "      <td>121.027535</td>\n",
       "      <td>14.565443</td>\n",
       "      <td>French, Japanese, Desserts</td>\n",
       "      <td>...</td>\n",
       "      <td>Yes</td>\n",
       "      <td>No</td>\n",
       "      <td>No</td>\n",
       "      <td>No</td>\n",
       "      <td>3</td>\n",
       "      <td>4.8</td>\n",
       "      <td>Dark Green</td>\n",
       "      <td>Excellent</td>\n",
       "      <td>314</td>\n",
       "      <td>Phillipines</td>\n",
       "    </tr>\n",
       "  </tbody>\n",
       "</table>\n",
       "<p>1 rows × 22 columns</p>\n",
       "</div>"
      ],
      "text/plain": [
       "   Restaurant ID   Restaurant Name  Country Code         City  \\\n",
       "0        6317637  Le Petit Souffle           162  Makati City   \n",
       "\n",
       "                                             Address  \\\n",
       "0  Third Floor, Century City Mall, Kalayaan Avenu...   \n",
       "\n",
       "                                    Locality  \\\n",
       "0  Century City Mall, Poblacion, Makati City   \n",
       "\n",
       "                                    Locality Verbose   Longitude   Latitude  \\\n",
       "0  Century City Mall, Poblacion, Makati City, Mak...  121.027535  14.565443   \n",
       "\n",
       "                     Cuisines  ...  Has Table booking Has Online delivery  \\\n",
       "0  French, Japanese, Desserts  ...                Yes                  No   \n",
       "\n",
       "  Is delivering now Switch to order menu Price range Aggregate rating  \\\n",
       "0                No                   No           3              4.8   \n",
       "\n",
       "   Rating color  Rating text Votes      Country  \n",
       "0    Dark Green    Excellent   314  Phillipines  \n",
       "\n",
       "[1 rows x 22 columns]"
      ]
     },
     "execution_count": 63,
     "metadata": {},
     "output_type": "execute_result"
    }
   ],
   "source": [
    "df_new.head(1)"
   ]
  },
  {
   "cell_type": "code",
   "execution_count": 64,
   "id": "0c6e05a1",
   "metadata": {},
   "outputs": [
    {
     "data": {
      "text/plain": [
       "Index(['Restaurant ID', 'Restaurant Name', 'Country Code', 'City', 'Address',\n",
       "       'Locality', 'Locality Verbose', 'Longitude', 'Latitude', 'Cuisines',\n",
       "       'Average Cost for two', 'Currency', 'Has Table booking',\n",
       "       'Has Online delivery', 'Is delivering now', 'Switch to order menu',\n",
       "       'Price range', 'Aggregate rating', 'Rating color', 'Rating text',\n",
       "       'Votes', 'Country'],\n",
       "      dtype='object')"
      ]
     },
     "execution_count": 64,
     "metadata": {},
     "output_type": "execute_result"
    }
   ],
   "source": [
    "df_new.columns "
   ]
  },
  {
   "cell_type": "code",
   "execution_count": 68,
   "id": "b4e0e8fa",
   "metadata": {},
   "outputs": [
    {
     "name": "stdout",
     "output_type": "stream",
     "text": [
      "Has Table booking    No   Yes\n",
      "Country                      \n",
      "Australia            24     0\n",
      "Brazil               60     0\n",
      "Canada                4     0\n",
      "India              7541  1111\n",
      "Indonesia            21     0\n",
      "New Zealand          40     0\n",
      "Phillipines           8    14\n",
      "Qatar                19     1\n",
      "Singapore            20     0\n",
      "South Africa         58     2\n",
      "Sri Lanka            20     0\n",
      "Turkey               34     0\n",
      "UAE                  42    18\n",
      "United Kingdom       68    12\n",
      "United States       434     0\n"
     ]
    }
   ],
   "source": [
    "CrosstabResult=pd.crosstab(index=df_new['Country'],columns=df_new['Has Table booking'])\n",
    "print(CrosstabResult)"
   ]
  },
  {
   "cell_type": "code",
   "execution_count": 69,
   "id": "9d7d9fb3",
   "metadata": {},
   "outputs": [],
   "source": [
    "%matplotlib inline "
   ]
  },
  {
   "cell_type": "code",
   "execution_count": 70,
   "id": "f6cc82e4",
   "metadata": {},
   "outputs": [
    {
     "data": {
      "text/plain": [
       "<AxesSubplot:xlabel='Country'>"
      ]
     },
     "execution_count": 70,
     "metadata": {},
     "output_type": "execute_result"
    },
    {
     "data": {
      "image/png": "[encoded data removed]",
      "text/plain": [
       "<Figure size 432x288 with 1 Axes>"
      ]
     },
     "metadata": {
      "needs_background": "light"
     },
     "output_type": "display_data"
    }
   ],
   "source": [
    "CrosstabResult.plot.bar()"
   ]
  },
  {
   "cell_type": "markdown",
   "id": "cc1bbeca",
   "metadata": {},
   "source": [
    "so india has highest table booking restraunt "
   ]
  },
  {
   "cell_type": "code",
   "execution_count": 72,
   "id": "6b4cb141",
   "metadata": {},
   "outputs": [],
   "source": [
    "# which restraunt is delivering now across country "
   ]
  },
  {
   "cell_type": "code",
   "execution_count": 73,
   "id": "bdb0c81f",
   "metadata": {},
   "outputs": [
    {
     "name": "stdout",
     "output_type": "stream",
     "text": [
      "Is delivering now    No  Yes\n",
      "Country                     \n",
      "Australia            24    0\n",
      "Brazil               60    0\n",
      "Canada                4    0\n",
      "India              8618   34\n",
      "Indonesia            21    0\n",
      "New Zealand          40    0\n",
      "Phillipines          22    0\n",
      "Qatar                20    0\n",
      "Singapore            20    0\n",
      "South Africa         60    0\n",
      "Sri Lanka            20    0\n",
      "Turkey               34    0\n",
      "UAE                  60    0\n",
      "United Kingdom       80    0\n",
      "United States       434    0\n"
     ]
    }
   ],
   "source": [
    "CrosstabResult=pd.crosstab(index=df_new['Country'],columns=df_new['Is delivering now'])\n",
    "print(CrosstabResult)"
   ]
  },
  {
   "cell_type": "code",
   "execution_count": 74,
   "id": "a4a291bf",
   "metadata": {},
   "outputs": [
    {
     "data": {
      "text/plain": [
       "<AxesSubplot:xlabel='Country'>"
      ]
     },
     "execution_count": 74,
     "metadata": {},
     "output_type": "execute_result"
    },
    {
     "data": {
      "image/png": "[encoded data removed]",
      "text/plain": [
       "<Figure size 432x288 with 1 Axes>"
      ]
     },
     "metadata": {
      "needs_background": "light"
     },
     "output_type": "display_data"
    }
   ],
   "source": [
    "CrosstabResult.plot.bar()"
   ]
  },
  {
   "cell_type": "markdown",
   "id": "a288a7d2",
   "metadata": {},
   "source": [
    "India has a few restraunt which is delivering now according to the dataset "
   ]
  },
  {
   "cell_type": "code",
   "execution_count": 77,
   "id": "62194af8",
   "metadata": {},
   "outputs": [],
   "source": [
    "#new section "
   ]
  },
  {
   "cell_type": "code",
   "execution_count": 78,
   "id": "b1246423",
   "metadata": {},
   "outputs": [
    {
     "data": {
      "text/plain": [
       "Index(['Restaurant ID', 'Restaurant Name', 'Country Code', 'City', 'Address',\n",
       "       'Locality', 'Locality Verbose', 'Longitude', 'Latitude', 'Cuisines',\n",
       "       'Average Cost for two', 'Currency', 'Has Table booking',\n",
       "       'Has Online delivery', 'Is delivering now', 'Switch to order menu',\n",
       "       'Price range', 'Aggregate rating', 'Rating color', 'Rating text',\n",
       "       'Votes', 'Country'],\n",
       "      dtype='object')"
      ]
     },
     "execution_count": 78,
     "metadata": {},
     "output_type": "execute_result"
    }
   ],
   "source": [
    "df_new.columns "
   ]
  },
  {
   "cell_type": "code",
   "execution_count": 79,
   "id": "fae01c36",
   "metadata": {},
   "outputs": [],
   "source": [
    "# which country has maximum online delivery "
   ]
  },
  {
   "cell_type": "code",
   "execution_count": 80,
   "id": "bc4625dd",
   "metadata": {},
   "outputs": [
    {
     "name": "stdout",
     "output_type": "stream",
     "text": [
      "Has Online delivery    No   Yes\n",
      "Country                        \n",
      "Australia              24     0\n",
      "Brazil                 60     0\n",
      "Canada                  4     0\n",
      "India                6229  2423\n",
      "Indonesia              21     0\n",
      "New Zealand            40     0\n",
      "Phillipines            22     0\n",
      "Qatar                  20     0\n",
      "Singapore              20     0\n",
      "South Africa           60     0\n",
      "Sri Lanka              20     0\n",
      "Turkey                 34     0\n",
      "UAE                    32    28\n",
      "United Kingdom         80     0\n",
      "United States         434     0\n"
     ]
    }
   ],
   "source": [
    "CrosstabResult=pd.crosstab(index=df_new['Country'],columns=df_new['Has Online delivery'])\n",
    "print(CrosstabResult)"
   ]
  },
  {
   "cell_type": "code",
   "execution_count": 81,
   "id": "d0400f18",
   "metadata": {},
   "outputs": [
    {
     "data": {
      "text/plain": [
       "<AxesSubplot:xlabel='Country'>"
      ]
     },
     "execution_count": 81,
     "metadata": {},
     "output_type": "execute_result"
    },
    {
     "data": {
      "image/png": "[encoded data removed]",
      "text/plain": [
       "<Figure size 432x288 with 1 Axes>"
      ]
     },
     "metadata": {
      "needs_background": "light"
     },
     "output_type": "display_data"
    }
   ],
   "source": [
    "CrosstabResult.plot.bar()"
   ]
  },
  {
   "cell_type": "markdown",
   "id": "f3f4babb",
   "metadata": {},
   "source": [
    "India has the maximum restraunt which was delivering online as compared to another another country "
   ]
  },
  {
   "cell_type": "code",
   "execution_count": 82,
   "id": "d9679876",
   "metadata": {},
   "outputs": [],
   "source": [
    "# new section "
   ]
  },
  {
   "cell_type": "code",
   "execution_count": 83,
   "id": "3190ea27",
   "metadata": {},
   "outputs": [
    {
     "data": {
      "text/plain": [
       "array([4.8, 4.5, 4.4, 4.9, 4. , 4.2, 4.3, 3.6, 4.7, 3. , 3.8, 3.7, 3.2,\n",
       "       3.1, 0. , 4.1, 3.3, 4.6, 3.9, 3.4, 3.5, 2.2, 2.9, 2.4, 2.6, 2.8,\n",
       "       2.1, 2.7, 2.5, 1.8, 2. , 2.3, 1.9])"
      ]
     },
     "execution_count": 83,
     "metadata": {},
     "output_type": "execute_result"
    }
   ],
   "source": [
    "df_new['Aggregate rating'].unique()"
   ]
  },
  {
   "cell_type": "code",
   "execution_count": 88,
   "id": "fd0c3ec7",
   "metadata": {},
   "outputs": [
    {
     "data": {
      "text/plain": [
       "[Text(0, 60, '4.46818'),\n",
       " Text(0, 60, '3.76333'),\n",
       " Text(0, 60, '4.00438'),\n",
       " Text(0, 60, '3.65833'),\n",
       " Text(0, 60, '3.575'),\n",
       " Text(0, 60, '3.575'),\n",
       " Text(0, 60, '4.23333'),\n",
       " Text(0, 60, '2.52332'),\n",
       " Text(0, 60, '4.29524'),\n",
       " Text(0, 60, '4.2625'),\n",
       " Text(0, 60, '4.0875'),\n",
       " Text(0, 60, '4.06'),\n",
       " Text(0, 60, '4.21'),\n",
       " Text(0, 60, '3.87'),\n",
       " Text(0, 60, '4.3')]"
      ]
     },
     "execution_count": 88,
     "metadata": {},
     "output_type": "execute_result"
    },
    {
     "data": {
      "image/png": "[encoded data removed]",
      "text/plain": [
       "<Figure size 576x576 with 1 Axes>"
      ]
     },
     "metadata": {
      "needs_background": "light"
     },
     "output_type": "display_data"
    }
   ],
   "source": [
    "fig, ax = plt.subplots(figsize=(8, 8))\n",
    "plot = sns.barplot(x='Country' , y = 'Aggregate rating' , data = df_new)\n",
    "plt.setp(plot.get_xticklabels(), rotation=90)\n",
    "plot.bar_label(ax.containers[0], label_type='edge', padding=60)"
   ]
  },
  {
   "cell_type": "markdown",
   "id": "d80512cf",
   "metadata": {},
   "source": [
    "So Phillipines has most aggreate rating that was 4.46818"
   ]
  },
  {
   "cell_type": "code",
   "execution_count": null,
   "id": "583d1d14",
   "metadata": {},
   "outputs": [],
   "source": []
  }
 ],
 "metadata": {
  "kernelspec": {
   "display_name": "Python 3 (ipykernel)",
   "language": "python",
   "name": "python3"
  },
  "language_info": {
   "codemirror_mode": {
    "name": "ipython",
    "version": 3
   },
   "file_extension": ".py",
   "mimetype": "text/x-python",
   "name": "python",
   "nbconvert_exporter": "python",
   "pygments_lexer": "ipython3",
   "version": "3.9.12"
  }
 },
 "nbformat": 4,
 "nbformat_minor": 5
}
